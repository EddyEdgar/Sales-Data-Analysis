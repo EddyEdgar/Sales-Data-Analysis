{
  "nbformat": 4,
  "nbformat_minor": 0,
  "metadata": {
    "colab": {
      "provenance": []
    },
    "kernelspec": {
      "name": "python3",
      "display_name": "Python 3"
    },
    "language_info": {
      "name": "python"
    }
  },
  "cells": [
    {
      "cell_type": "markdown",
      "source": [
        "# **SUPERSTORE SALES DATA CLEANING & EDA**"
      ],
      "metadata": {
        "id": "jmtkad_RSCDY"
      }
    },
    {
      "cell_type": "markdown",
      "source": [
        "![Superstore.png](data:image/png;base64,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)\n",
        "\n",
        "## **Table of Content**\n",
        "\n",
        "\n",
        "1. INTRODUCTION\n",
        ">1.0 OVERVIEW<BR>1.1 DATA DESCRIPTION\n",
        "\n",
        "\n",
        "2. REPOSITORY\n",
        ">2.0 IMPORT LIBRARIES<BR>2.1 LOAD DATA SET\n",
        "\n",
        "\n",
        "3. EXPLORATORY DATA ANALYSIS (EDA)\n",
        ">3.0 BRIEF DESCRIPTION OF EDA<BR>3.1 TOP SELLING CATEGORIES & SUB-CATEGORIES<BR>3.2 MOST PROFITABLE REGION<BR> 3.3 RELATIONSHIP BETWEEN SALES AND PROFIT<BR>SHIPPING DELAYS\n",
        "\n",
        "\n",
        "4. END NOTES\n",
        "\n",
        "\n",
        "5. CONCLUSION"
      ],
      "metadata": {
        "id": "o6ERbmiNuTJh"
      }
    },
    {
      "cell_type": "markdown",
      "source": [
        "## **1. INTRODUCTION**\n",
        "\n",
        "#### **1.0 OVERVIEW**\n",
        "\n",
        "This project focuses on analyzing retail performance data from a superstore. The goal is to clean and explore the data using python to explore the data and generate meaningful insights. The data contains 9994 rows and 21 columns. The data used can be found [here](https://drive.google.com/file/d/1X965t84Pvj0HgJO0_DZZlwXUT_A9wOXM/view?usp=sharing)"
      ],
      "metadata": {
        "id": "uUxANidMuTG7"
      }
    },
    {
      "cell_type": "markdown",
      "source": [
        "#### **1.1 DATA DESCRIPTION**\n",
        "The dataset contains the following information\n",
        "\n",
        "```\n",
        "Row ID => Unique ID for each row.\n",
        "Order ID => Unique Order ID for each Customer.\n",
        "Order Date => Order Date of the product.\n",
        "Ship Date => Shipping Date of the Product.\n",
        "Ship Mode=> Shipping Mode specified by the Customer.\n",
        "Customer ID => Unique ID to identify each Customer.\n",
        "Customer Name => Name of the Customer.\n",
        "Segment => The segment where the Customer belongs.\n",
        "Country => Country of residence of the Customer.\n",
        "City => City of residence of of the Customer.\n",
        "State => State of residence of the Customer.\n",
        "Postal Code => Postal Code of every Customer.\n",
        "Region => Region where the Customer belong.\n",
        "Product ID => Unique ID of the Product.\n",
        "Category => Category of the product ordered.\n",
        "Sub-Category => Sub-Category of the product ordered.\n",
        "Product Name => Name of the Product\n",
        "Sales => Sales of the Product.\n",
        "Quantity => Quantity of the Product.\n",
        "Discount => Discount provided.\n",
        "Profit => Profit/Loss incurred.\n",
        "```"
      ],
      "metadata": {
        "id": "rpfr_oIBzkdC"
      }
    },
    {
      "cell_type": "markdown",
      "source": [
        "## 2. **REPOSITORY**\n",
        "\n",
        "#### **2.1 IMPORT LIBRARIES**\n",
        "Importing libraries is a critical step before loading the dataset. It is critical to import only the libraries that you are certain you will need to work with your dataset. To import to libraries, use the keyword *import*"
      ],
      "metadata": {
        "id": "dYIS0MTD34il"
      }
    },
    {
      "cell_type": "code",
      "source": [
        "import pandas as pd\n",
        "import numpy as np\n",
        "import seaborn as sns\n",
        "import matplotlib.pyplot as plt"
      ],
      "metadata": {
        "id": "8wrQQoLQSTnu"
      },
      "execution_count": null,
      "outputs": []
    },
    {
      "cell_type": "markdown",
      "source": [
        "#### **2.2 LOAD DATA SET**"
      ],
      "metadata": {
        "id": "qEfEBkw349Qw"
      }
    },
    {
      "cell_type": "code",
      "source": [
        "# using pd.read to load the dataset\n",
        "# storing the dataset with the variable name *store*\n",
        "\n",
        "\n",
        "store = pd.read_csv(\"Superstore.csv\", encoding = \"latin1\")\n",
        "store.head()"
      ],
      "metadata": {
        "colab": {
          "base_uri": "https://localhost:8080/",
          "height": 585
        },
        "id": "9s1mbbKq4xPQ",
        "outputId": "a7ba9d47-a80a-4f63-d48f-dc6cb2310f18"
      },
      "execution_count": null,
      "outputs": [
        {
          "output_type": "execute_result",
          "data": {
            "text/plain": [
              "   Row ID        Order ID  Order Date   Ship Date       Ship Mode Customer ID  \\\n",
              "0       1  CA-2016-152156   11/8/2016  11/11/2016    Second Class    CG-12520   \n",
              "1       2  CA-2016-152156   11/8/2016  11/11/2016    Second Class    CG-12520   \n",
              "2       3  CA-2016-138688   6/12/2016   6/16/2016    Second Class    DV-13045   \n",
              "3       4  US-2015-108966  10/11/2015  10/18/2015  Standard Class    SO-20335   \n",
              "4       5  US-2015-108966  10/11/2015  10/18/2015  Standard Class    SO-20335   \n",
              "\n",
              "     Customer Name    Segment        Country             City  ...  \\\n",
              "0      Claire Gute   Consumer  United States        Henderson  ...   \n",
              "1      Claire Gute   Consumer  United States        Henderson  ...   \n",
              "2  Darrin Van Huff  Corporate  United States      Los Angeles  ...   \n",
              "3   Sean O'Donnell   Consumer  United States  Fort Lauderdale  ...   \n",
              "4   Sean O'Donnell   Consumer  United States  Fort Lauderdale  ...   \n",
              "\n",
              "  Postal Code  Region       Product ID         Category Sub-Category  \\\n",
              "0       42420   South  FUR-BO-10001798        Furniture    Bookcases   \n",
              "1       42420   South  FUR-CH-10000454        Furniture       Chairs   \n",
              "2       90036    West  OFF-LA-10000240  Office Supplies       Labels   \n",
              "3       33311   South  FUR-TA-10000577        Furniture       Tables   \n",
              "4       33311   South  OFF-ST-10000760  Office Supplies      Storage   \n",
              "\n",
              "                                        Product Name     Sales  Quantity  \\\n",
              "0                  Bush Somerset Collection Bookcase  261.9600         2   \n",
              "1  Hon Deluxe Fabric Upholstered Stacking Chairs,...  731.9400         3   \n",
              "2  Self-Adhesive Address Labels for Typewriters b...   14.6200         2   \n",
              "3      Bretford CR4500 Series Slim Rectangular Table  957.5775         5   \n",
              "4                     Eldon Fold 'N Roll Cart System   22.3680         2   \n",
              "\n",
              "   Discount    Profit  \n",
              "0      0.00   41.9136  \n",
              "1      0.00  219.5820  \n",
              "2      0.00    6.8714  \n",
              "3      0.45 -383.0310  \n",
              "4      0.20    2.5164  \n",
              "\n",
              "[5 rows x 21 columns]"
            ],
            "text/html": [
              "\n",
              "  <div id=\"df-7d3632f2-c074-41e7-98d1-5b426104d9d5\" class=\"colab-df-container\">\n",
              "    <div>\n",
              "<style scoped>\n",
              "    .dataframe tbody tr th:only-of-type {\n",
              "        vertical-align: middle;\n",
              "    }\n",
              "\n",
              "    .dataframe tbody tr th {\n",
              "        vertical-align: top;\n",
              "    }\n",
              "\n",
              "    .dataframe thead th {\n",
              "        text-align: right;\n",
              "    }\n",
              "</style>\n",
              "<table border=\"1\" class=\"dataframe\">\n",
              "  <thead>\n",
              "    <tr style=\"text-align: right;\">\n",
              "      <th></th>\n",
              "      <th>Row ID</th>\n",
              "      <th>Order ID</th>\n",
              "      <th>Order Date</th>\n",
              "      <th>Ship Date</th>\n",
              "      <th>Ship Mode</th>\n",
              "      <th>Customer ID</th>\n",
              "      <th>Customer Name</th>\n",
              "      <th>Segment</th>\n",
              "      <th>Country</th>\n",
              "      <th>City</th>\n",
              "      <th>...</th>\n",
              "      <th>Postal Code</th>\n",
              "      <th>Region</th>\n",
              "      <th>Product ID</th>\n",
              "      <th>Category</th>\n",
              "      <th>Sub-Category</th>\n",
              "      <th>Product Name</th>\n",
              "      <th>Sales</th>\n",
              "      <th>Quantity</th>\n",
              "      <th>Discount</th>\n",
              "      <th>Profit</th>\n",
              "    </tr>\n",
              "  </thead>\n",
              "  <tbody>\n",
              "    <tr>\n",
              "      <th>0</th>\n",
              "      <td>1</td>\n",
              "      <td>CA-2016-152156</td>\n",
              "      <td>11/8/2016</td>\n",
              "      <td>11/11/2016</td>\n",
              "      <td>Second Class</td>\n",
              "      <td>CG-12520</td>\n",
              "      <td>Claire Gute</td>\n",
              "      <td>Consumer</td>\n",
              "      <td>United States</td>\n",
              "      <td>Henderson</td>\n",
              "      <td>...</td>\n",
              "      <td>42420</td>\n",
              "      <td>South</td>\n",
              "      <td>FUR-BO-10001798</td>\n",
              "      <td>Furniture</td>\n",
              "      <td>Bookcases</td>\n",
              "      <td>Bush Somerset Collection Bookcase</td>\n",
              "      <td>261.9600</td>\n",
              "      <td>2</td>\n",
              "      <td>0.00</td>\n",
              "      <td>41.9136</td>\n",
              "    </tr>\n",
              "    <tr>\n",
              "      <th>1</th>\n",
              "      <td>2</td>\n",
              "      <td>CA-2016-152156</td>\n",
              "      <td>11/8/2016</td>\n",
              "      <td>11/11/2016</td>\n",
              "      <td>Second Class</td>\n",
              "      <td>CG-12520</td>\n",
              "      <td>Claire Gute</td>\n",
              "      <td>Consumer</td>\n",
              "      <td>United States</td>\n",
              "      <td>Henderson</td>\n",
              "      <td>...</td>\n",
              "      <td>42420</td>\n",
              "      <td>South</td>\n",
              "      <td>FUR-CH-10000454</td>\n",
              "      <td>Furniture</td>\n",
              "      <td>Chairs</td>\n",
              "      <td>Hon Deluxe Fabric Upholstered Stacking Chairs,...</td>\n",
              "      <td>731.9400</td>\n",
              "      <td>3</td>\n",
              "      <td>0.00</td>\n",
              "      <td>219.5820</td>\n",
              "    </tr>\n",
              "    <tr>\n",
              "      <th>2</th>\n",
              "      <td>3</td>\n",
              "      <td>CA-2016-138688</td>\n",
              "      <td>6/12/2016</td>\n",
              "      <td>6/16/2016</td>\n",
              "      <td>Second Class</td>\n",
              "      <td>DV-13045</td>\n",
              "      <td>Darrin Van Huff</td>\n",
              "      <td>Corporate</td>\n",
              "      <td>United States</td>\n",
              "      <td>Los Angeles</td>\n",
              "      <td>...</td>\n",
              "      <td>90036</td>\n",
              "      <td>West</td>\n",
              "      <td>OFF-LA-10000240</td>\n",
              "      <td>Office Supplies</td>\n",
              "      <td>Labels</td>\n",
              "      <td>Self-Adhesive Address Labels for Typewriters b...</td>\n",
              "      <td>14.6200</td>\n",
              "      <td>2</td>\n",
              "      <td>0.00</td>\n",
              "      <td>6.8714</td>\n",
              "    </tr>\n",
              "    <tr>\n",
              "      <th>3</th>\n",
              "      <td>4</td>\n",
              "      <td>US-2015-108966</td>\n",
              "      <td>10/11/2015</td>\n",
              "      <td>10/18/2015</td>\n",
              "      <td>Standard Class</td>\n",
              "      <td>SO-20335</td>\n",
              "      <td>Sean O'Donnell</td>\n",
              "      <td>Consumer</td>\n",
              "      <td>United States</td>\n",
              "      <td>Fort Lauderdale</td>\n",
              "      <td>...</td>\n",
              "      <td>33311</td>\n",
              "      <td>South</td>\n",
              "      <td>FUR-TA-10000577</td>\n",
              "      <td>Furniture</td>\n",
              "      <td>Tables</td>\n",
              "      <td>Bretford CR4500 Series Slim Rectangular Table</td>\n",
              "      <td>957.5775</td>\n",
              "      <td>5</td>\n",
              "      <td>0.45</td>\n",
              "      <td>-383.0310</td>\n",
              "    </tr>\n",
              "    <tr>\n",
              "      <th>4</th>\n",
              "      <td>5</td>\n",
              "      <td>US-2015-108966</td>\n",
              "      <td>10/11/2015</td>\n",
              "      <td>10/18/2015</td>\n",
              "      <td>Standard Class</td>\n",
              "      <td>SO-20335</td>\n",
              "      <td>Sean O'Donnell</td>\n",
              "      <td>Consumer</td>\n",
              "      <td>United States</td>\n",
              "      <td>Fort Lauderdale</td>\n",
              "      <td>...</td>\n",
              "      <td>33311</td>\n",
              "      <td>South</td>\n",
              "      <td>OFF-ST-10000760</td>\n",
              "      <td>Office Supplies</td>\n",
              "      <td>Storage</td>\n",
              "      <td>Eldon Fold 'N Roll Cart System</td>\n",
              "      <td>22.3680</td>\n",
              "      <td>2</td>\n",
              "      <td>0.20</td>\n",
              "      <td>2.5164</td>\n",
              "    </tr>\n",
              "  </tbody>\n",
              "</table>\n",
              "<p>5 rows × 21 columns</p>\n",
              "</div>\n",
              "    <div class=\"colab-df-buttons\">\n",
              "\n",
              "  <div class=\"colab-df-container\">\n",
              "    <button class=\"colab-df-convert\" onclick=\"convertToInteractive('df-7d3632f2-c074-41e7-98d1-5b426104d9d5')\"\n",
              "            title=\"Convert this dataframe to an interactive table.\"\n",
              "            style=\"display:none;\">\n",
              "\n",
              "  <svg xmlns=\"http://www.w3.org/2000/svg\" height=\"24px\" viewBox=\"0 -960 960 960\">\n",
              "    <path d=\"M120-120v-720h720v720H120Zm60-500h600v-160H180v160Zm220 220h160v-160H400v160Zm0 220h160v-160H400v160ZM180-400h160v-160H180v160Zm440 0h160v-160H620v160ZM180-180h160v-160H180v160Zm440 0h160v-160H620v160Z\"/>\n",
              "  </svg>\n",
              "    </button>\n",
              "\n",
              "  <style>\n",
              "    .colab-df-container {\n",
              "      display:flex;\n",
              "      gap: 12px;\n",
              "    }\n",
              "\n",
              "    .colab-df-convert {\n",
              "      background-color: #E8F0FE;\n",
              "      border: none;\n",
              "      border-radius: 50%;\n",
              "      cursor: pointer;\n",
              "      display: none;\n",
              "      fill: #1967D2;\n",
              "      height: 32px;\n",
              "      padding: 0 0 0 0;\n",
              "      width: 32px;\n",
              "    }\n",
              "\n",
              "    .colab-df-convert:hover {\n",
              "      background-color: #E2EBFA;\n",
              "      box-shadow: 0px 1px 2px rgba(60, 64, 67, 0.3), 0px 1px 3px 1px rgba(60, 64, 67, 0.15);\n",
              "      fill: #174EA6;\n",
              "    }\n",
              "\n",
              "    .colab-df-buttons div {\n",
              "      margin-bottom: 4px;\n",
              "    }\n",
              "\n",
              "    [theme=dark] .colab-df-convert {\n",
              "      background-color: #3B4455;\n",
              "      fill: #D2E3FC;\n",
              "    }\n",
              "\n",
              "    [theme=dark] .colab-df-convert:hover {\n",
              "      background-color: #434B5C;\n",
              "      box-shadow: 0px 1px 3px 1px rgba(0, 0, 0, 0.15);\n",
              "      filter: drop-shadow(0px 1px 2px rgba(0, 0, 0, 0.3));\n",
              "      fill: #FFFFFF;\n",
              "    }\n",
              "  </style>\n",
              "\n",
              "    <script>\n",
              "      const buttonEl =\n",
              "        document.querySelector('#df-7d3632f2-c074-41e7-98d1-5b426104d9d5 button.colab-df-convert');\n",
              "      buttonEl.style.display =\n",
              "        google.colab.kernel.accessAllowed ? 'block' : 'none';\n",
              "\n",
              "      async function convertToInteractive(key) {\n",
              "        const element = document.querySelector('#df-7d3632f2-c074-41e7-98d1-5b426104d9d5');\n",
              "        const dataTable =\n",
              "          await google.colab.kernel.invokeFunction('convertToInteractive',\n",
              "                                                    [key], {});\n",
              "        if (!dataTable) return;\n",
              "\n",
              "        const docLinkHtml = 'Like what you see? Visit the ' +\n",
              "          '<a target=\"_blank\" href=https://colab.research.google.com/notebooks/data_table.ipynb>data table notebook</a>'\n",
              "          + ' to learn more about interactive tables.';\n",
              "        element.innerHTML = '';\n",
              "        dataTable['output_type'] = 'display_data';\n",
              "        await google.colab.output.renderOutput(dataTable, element);\n",
              "        const docLink = document.createElement('div');\n",
              "        docLink.innerHTML = docLinkHtml;\n",
              "        element.appendChild(docLink);\n",
              "      }\n",
              "    </script>\n",
              "  </div>\n",
              "\n",
              "\n",
              "    <div id=\"df-0fcbd1cd-8408-41d4-820c-4ae11953e8c9\">\n",
              "      <button class=\"colab-df-quickchart\" onclick=\"quickchart('df-0fcbd1cd-8408-41d4-820c-4ae11953e8c9')\"\n",
              "                title=\"Suggest charts\"\n",
              "                style=\"display:none;\">\n",
              "\n",
              "<svg xmlns=\"http://www.w3.org/2000/svg\" height=\"24px\"viewBox=\"0 0 24 24\"\n",
              "     width=\"24px\">\n",
              "    <g>\n",
              "        <path d=\"M19 3H5c-1.1 0-2 .9-2 2v14c0 1.1.9 2 2 2h14c1.1 0 2-.9 2-2V5c0-1.1-.9-2-2-2zM9 17H7v-7h2v7zm4 0h-2V7h2v10zm4 0h-2v-4h2v4z\"/>\n",
              "    </g>\n",
              "</svg>\n",
              "      </button>\n",
              "\n",
              "<style>\n",
              "  .colab-df-quickchart {\n",
              "      --bg-color: #E8F0FE;\n",
              "      --fill-color: #1967D2;\n",
              "      --hover-bg-color: #E2EBFA;\n",
              "      --hover-fill-color: #174EA6;\n",
              "      --disabled-fill-color: #AAA;\n",
              "      --disabled-bg-color: #DDD;\n",
              "  }\n",
              "\n",
              "  [theme=dark] .colab-df-quickchart {\n",
              "      --bg-color: #3B4455;\n",
              "      --fill-color: #D2E3FC;\n",
              "      --hover-bg-color: #434B5C;\n",
              "      --hover-fill-color: #FFFFFF;\n",
              "      --disabled-bg-color: #3B4455;\n",
              "      --disabled-fill-color: #666;\n",
              "  }\n",
              "\n",
              "  .colab-df-quickchart {\n",
              "    background-color: var(--bg-color);\n",
              "    border: none;\n",
              "    border-radius: 50%;\n",
              "    cursor: pointer;\n",
              "    display: none;\n",
              "    fill: var(--fill-color);\n",
              "    height: 32px;\n",
              "    padding: 0;\n",
              "    width: 32px;\n",
              "  }\n",
              "\n",
              "  .colab-df-quickchart:hover {\n",
              "    background-color: var(--hover-bg-color);\n",
              "    box-shadow: 0 1px 2px rgba(60, 64, 67, 0.3), 0 1px 3px 1px rgba(60, 64, 67, 0.15);\n",
              "    fill: var(--button-hover-fill-color);\n",
              "  }\n",
              "\n",
              "  .colab-df-quickchart-complete:disabled,\n",
              "  .colab-df-quickchart-complete:disabled:hover {\n",
              "    background-color: var(--disabled-bg-color);\n",
              "    fill: var(--disabled-fill-color);\n",
              "    box-shadow: none;\n",
              "  }\n",
              "\n",
              "  .colab-df-spinner {\n",
              "    border: 2px solid var(--fill-color);\n",
              "    border-color: transparent;\n",
              "    border-bottom-color: var(--fill-color);\n",
              "    animation:\n",
              "      spin 1s steps(1) infinite;\n",
              "  }\n",
              "\n",
              "  @keyframes spin {\n",
              "    0% {\n",
              "      border-color: transparent;\n",
              "      border-bottom-color: var(--fill-color);\n",
              "      border-left-color: var(--fill-color);\n",
              "    }\n",
              "    20% {\n",
              "      border-color: transparent;\n",
              "      border-left-color: var(--fill-color);\n",
              "      border-top-color: var(--fill-color);\n",
              "    }\n",
              "    30% {\n",
              "      border-color: transparent;\n",
              "      border-left-color: var(--fill-color);\n",
              "      border-top-color: var(--fill-color);\n",
              "      border-right-color: var(--fill-color);\n",
              "    }\n",
              "    40% {\n",
              "      border-color: transparent;\n",
              "      border-right-color: var(--fill-color);\n",
              "      border-top-color: var(--fill-color);\n",
              "    }\n",
              "    60% {\n",
              "      border-color: transparent;\n",
              "      border-right-color: var(--fill-color);\n",
              "    }\n",
              "    80% {\n",
              "      border-color: transparent;\n",
              "      border-right-color: var(--fill-color);\n",
              "      border-bottom-color: var(--fill-color);\n",
              "    }\n",
              "    90% {\n",
              "      border-color: transparent;\n",
              "      border-bottom-color: var(--fill-color);\n",
              "    }\n",
              "  }\n",
              "</style>\n",
              "\n",
              "      <script>\n",
              "        async function quickchart(key) {\n",
              "          const quickchartButtonEl =\n",
              "            document.querySelector('#' + key + ' button');\n",
              "          quickchartButtonEl.disabled = true;  // To prevent multiple clicks.\n",
              "          quickchartButtonEl.classList.add('colab-df-spinner');\n",
              "          try {\n",
              "            const charts = await google.colab.kernel.invokeFunction(\n",
              "                'suggestCharts', [key], {});\n",
              "          } catch (error) {\n",
              "            console.error('Error during call to suggestCharts:', error);\n",
              "          }\n",
              "          quickchartButtonEl.classList.remove('colab-df-spinner');\n",
              "          quickchartButtonEl.classList.add('colab-df-quickchart-complete');\n",
              "        }\n",
              "        (() => {\n",
              "          let quickchartButtonEl =\n",
              "            document.querySelector('#df-0fcbd1cd-8408-41d4-820c-4ae11953e8c9 button');\n",
              "          quickchartButtonEl.style.display =\n",
              "            google.colab.kernel.accessAllowed ? 'block' : 'none';\n",
              "        })();\n",
              "      </script>\n",
              "    </div>\n",
              "\n",
              "    </div>\n",
              "  </div>\n"
            ],
            "application/vnd.google.colaboratory.intrinsic+json": {
              "type": "dataframe",
              "variable_name": "store"
            }
          },
          "metadata": {},
          "execution_count": 56
        }
      ]
    },
    {
      "cell_type": "markdown",
      "source": [
        "Dataset successfully loaded"
      ],
      "metadata": {
        "id": "pEqbCavr_UGy"
      }
    },
    {
      "cell_type": "code",
      "source": [
        "# The shape of the data\n",
        "store.shape"
      ],
      "metadata": {
        "colab": {
          "base_uri": "https://localhost:8080/"
        },
        "id": "bbmYdhy4AQVY",
        "outputId": "d8709410-55d9-48a0-8f8a-b658433b713e"
      },
      "execution_count": null,
      "outputs": [
        {
          "output_type": "execute_result",
          "data": {
            "text/plain": [
              "(9994, 21)"
            ]
          },
          "metadata": {},
          "execution_count": 57
        }
      ]
    },
    {
      "cell_type": "markdown",
      "source": [
        "The dataset contains ***9994*** rows and ***21*** columns\n"
      ],
      "metadata": {
        "id": "GFoZK9EzAmrg"
      }
    },
    {
      "cell_type": "code",
      "source": [
        "# Information about the data\n",
        "store.info()"
      ],
      "metadata": {
        "colab": {
          "base_uri": "https://localhost:8080/"
        },
        "id": "XAL5grDBA56O",
        "outputId": "532020bd-f2ab-4223-9f2d-cae070de330c"
      },
      "execution_count": null,
      "outputs": [
        {
          "output_type": "stream",
          "name": "stdout",
          "text": [
            "<class 'pandas.core.frame.DataFrame'>\n",
            "RangeIndex: 9994 entries, 0 to 9993\n",
            "Data columns (total 21 columns):\n",
            " #   Column         Non-Null Count  Dtype  \n",
            "---  ------         --------------  -----  \n",
            " 0   Row ID         9994 non-null   int64  \n",
            " 1   Order ID       9994 non-null   object \n",
            " 2   Order Date     9994 non-null   object \n",
            " 3   Ship Date      9994 non-null   object \n",
            " 4   Ship Mode      9994 non-null   object \n",
            " 5   Customer ID    9994 non-null   object \n",
            " 6   Customer Name  9994 non-null   object \n",
            " 7   Segment        9994 non-null   object \n",
            " 8   Country        9994 non-null   object \n",
            " 9   City           9994 non-null   object \n",
            " 10  State          9994 non-null   object \n",
            " 11  Postal Code    9994 non-null   int64  \n",
            " 12  Region         9994 non-null   object \n",
            " 13  Product ID     9994 non-null   object \n",
            " 14  Category       9994 non-null   object \n",
            " 15  Sub-Category   9994 non-null   object \n",
            " 16  Product Name   9994 non-null   object \n",
            " 17  Sales          9994 non-null   float64\n",
            " 18  Quantity       9994 non-null   int64  \n",
            " 19  Discount       9994 non-null   float64\n",
            " 20  Profit         9994 non-null   float64\n",
            "dtypes: float64(3), int64(3), object(15)\n",
            "memory usage: 1.6+ MB\n"
          ]
        }
      ]
    },
    {
      "cell_type": "markdown",
      "source": [
        "This dataset contains both categorical and numerical values. The numerical values are in columns ***Row ID***, ***Postal Code***, ***Sales***, ***Quantity***, ***Discount*** and ***Profit***, while the other columns consists of categorical values."
      ],
      "metadata": {
        "id": "FK9Ln3UBBsT-"
      }
    },
    {
      "cell_type": "markdown",
      "source": [
        "## **3. EXPLORATORY DATA ANALYSIS**\n",
        "\n",
        "#### **3.1 BRIEF DESCRIPTION OF EDA**\n",
        "Exploratory data analysis is a technique for better understanding your data, which aids in subsequent data preprocessing. It is the critical process of conducting preliminary investigations on data in order to discover patterns, identify anomalies, test hypotheses, and validate assumptions using summary statistics and graphical representations.\n"
      ],
      "metadata": {
        "id": "Hp1_1jy-_ZjI"
      }
    },
    {
      "cell_type": "code",
      "source": [
        "# Checking for null values\n",
        "store.isnull().sum()"
      ],
      "metadata": {
        "colab": {
          "base_uri": "https://localhost:8080/",
          "height": 742
        },
        "id": "lzjqEF749aQC",
        "outputId": "2ccd1090-79bd-4e08-cb2e-2c7cdda17b48"
      },
      "execution_count": null,
      "outputs": [
        {
          "output_type": "execute_result",
          "data": {
            "text/plain": [
              "Row ID           0\n",
              "Order ID         0\n",
              "Order Date       0\n",
              "Ship Date        0\n",
              "Ship Mode        0\n",
              "Customer ID      0\n",
              "Customer Name    0\n",
              "Segment          0\n",
              "Country          0\n",
              "City             0\n",
              "State            0\n",
              "Postal Code      0\n",
              "Region           0\n",
              "Product ID       0\n",
              "Category         0\n",
              "Sub-Category     0\n",
              "Product Name     0\n",
              "Sales            0\n",
              "Quantity         0\n",
              "Discount         0\n",
              "Profit           0\n",
              "dtype: int64"
            ],
            "text/html": [
              "<div>\n",
              "<style scoped>\n",
              "    .dataframe tbody tr th:only-of-type {\n",
              "        vertical-align: middle;\n",
              "    }\n",
              "\n",
              "    .dataframe tbody tr th {\n",
              "        vertical-align: top;\n",
              "    }\n",
              "\n",
              "    .dataframe thead th {\n",
              "        text-align: right;\n",
              "    }\n",
              "</style>\n",
              "<table border=\"1\" class=\"dataframe\">\n",
              "  <thead>\n",
              "    <tr style=\"text-align: right;\">\n",
              "      <th></th>\n",
              "      <th>0</th>\n",
              "    </tr>\n",
              "  </thead>\n",
              "  <tbody>\n",
              "    <tr>\n",
              "      <th>Row ID</th>\n",
              "      <td>0</td>\n",
              "    </tr>\n",
              "    <tr>\n",
              "      <th>Order ID</th>\n",
              "      <td>0</td>\n",
              "    </tr>\n",
              "    <tr>\n",
              "      <th>Order Date</th>\n",
              "      <td>0</td>\n",
              "    </tr>\n",
              "    <tr>\n",
              "      <th>Ship Date</th>\n",
              "      <td>0</td>\n",
              "    </tr>\n",
              "    <tr>\n",
              "      <th>Ship Mode</th>\n",
              "      <td>0</td>\n",
              "    </tr>\n",
              "    <tr>\n",
              "      <th>Customer ID</th>\n",
              "      <td>0</td>\n",
              "    </tr>\n",
              "    <tr>\n",
              "      <th>Customer Name</th>\n",
              "      <td>0</td>\n",
              "    </tr>\n",
              "    <tr>\n",
              "      <th>Segment</th>\n",
              "      <td>0</td>\n",
              "    </tr>\n",
              "    <tr>\n",
              "      <th>Country</th>\n",
              "      <td>0</td>\n",
              "    </tr>\n",
              "    <tr>\n",
              "      <th>City</th>\n",
              "      <td>0</td>\n",
              "    </tr>\n",
              "    <tr>\n",
              "      <th>State</th>\n",
              "      <td>0</td>\n",
              "    </tr>\n",
              "    <tr>\n",
              "      <th>Postal Code</th>\n",
              "      <td>0</td>\n",
              "    </tr>\n",
              "    <tr>\n",
              "      <th>Region</th>\n",
              "      <td>0</td>\n",
              "    </tr>\n",
              "    <tr>\n",
              "      <th>Product ID</th>\n",
              "      <td>0</td>\n",
              "    </tr>\n",
              "    <tr>\n",
              "      <th>Category</th>\n",
              "      <td>0</td>\n",
              "    </tr>\n",
              "    <tr>\n",
              "      <th>Sub-Category</th>\n",
              "      <td>0</td>\n",
              "    </tr>\n",
              "    <tr>\n",
              "      <th>Product Name</th>\n",
              "      <td>0</td>\n",
              "    </tr>\n",
              "    <tr>\n",
              "      <th>Sales</th>\n",
              "      <td>0</td>\n",
              "    </tr>\n",
              "    <tr>\n",
              "      <th>Quantity</th>\n",
              "      <td>0</td>\n",
              "    </tr>\n",
              "    <tr>\n",
              "      <th>Discount</th>\n",
              "      <td>0</td>\n",
              "    </tr>\n",
              "    <tr>\n",
              "      <th>Profit</th>\n",
              "      <td>0</td>\n",
              "    </tr>\n",
              "  </tbody>\n",
              "</table>\n",
              "</div><br><label><b>dtype:</b> int64</label>"
            ]
          },
          "metadata": {},
          "execution_count": 59
        }
      ]
    },
    {
      "cell_type": "markdown",
      "source": [
        "There are no null values in the dataset"
      ],
      "metadata": {
        "id": "VuhGkC0dC5hf"
      }
    },
    {
      "cell_type": "code",
      "source": [
        "# checking for duplicates\n",
        "store.duplicated()"
      ],
      "metadata": {
        "colab": {
          "base_uri": "https://localhost:8080/",
          "height": 458
        },
        "id": "0ZiTdlbkCqbs",
        "outputId": "f01503a6-3c09-4848-e267-d5e3b43708a0"
      },
      "execution_count": null,
      "outputs": [
        {
          "output_type": "execute_result",
          "data": {
            "text/plain": [
              "0       False\n",
              "1       False\n",
              "2       False\n",
              "3       False\n",
              "4       False\n",
              "        ...  \n",
              "9989    False\n",
              "9990    False\n",
              "9991    False\n",
              "9992    False\n",
              "9993    False\n",
              "Length: 9994, dtype: bool"
            ],
            "text/html": [
              "<div>\n",
              "<style scoped>\n",
              "    .dataframe tbody tr th:only-of-type {\n",
              "        vertical-align: middle;\n",
              "    }\n",
              "\n",
              "    .dataframe tbody tr th {\n",
              "        vertical-align: top;\n",
              "    }\n",
              "\n",
              "    .dataframe thead th {\n",
              "        text-align: right;\n",
              "    }\n",
              "</style>\n",
              "<table border=\"1\" class=\"dataframe\">\n",
              "  <thead>\n",
              "    <tr style=\"text-align: right;\">\n",
              "      <th></th>\n",
              "      <th>0</th>\n",
              "    </tr>\n",
              "  </thead>\n",
              "  <tbody>\n",
              "    <tr>\n",
              "      <th>0</th>\n",
              "      <td>False</td>\n",
              "    </tr>\n",
              "    <tr>\n",
              "      <th>1</th>\n",
              "      <td>False</td>\n",
              "    </tr>\n",
              "    <tr>\n",
              "      <th>2</th>\n",
              "      <td>False</td>\n",
              "    </tr>\n",
              "    <tr>\n",
              "      <th>3</th>\n",
              "      <td>False</td>\n",
              "    </tr>\n",
              "    <tr>\n",
              "      <th>4</th>\n",
              "      <td>False</td>\n",
              "    </tr>\n",
              "    <tr>\n",
              "      <th>...</th>\n",
              "      <td>...</td>\n",
              "    </tr>\n",
              "    <tr>\n",
              "      <th>9989</th>\n",
              "      <td>False</td>\n",
              "    </tr>\n",
              "    <tr>\n",
              "      <th>9990</th>\n",
              "      <td>False</td>\n",
              "    </tr>\n",
              "    <tr>\n",
              "      <th>9991</th>\n",
              "      <td>False</td>\n",
              "    </tr>\n",
              "    <tr>\n",
              "      <th>9992</th>\n",
              "      <td>False</td>\n",
              "    </tr>\n",
              "    <tr>\n",
              "      <th>9993</th>\n",
              "      <td>False</td>\n",
              "    </tr>\n",
              "  </tbody>\n",
              "</table>\n",
              "<p>9994 rows × 1 columns</p>\n",
              "</div><br><label><b>dtype:</b> bool</label>"
            ]
          },
          "metadata": {},
          "execution_count": 60
        }
      ]
    },
    {
      "cell_type": "code",
      "source": [
        "# statistical summary of numerical values\n",
        "store.describe()"
      ],
      "metadata": {
        "colab": {
          "base_uri": "https://localhost:8080/",
          "height": 300
        },
        "id": "qRGP_u7PDgYo",
        "outputId": "403b73b2-4ff3-4bc5-875f-c38d81f7ed18"
      },
      "execution_count": null,
      "outputs": [
        {
          "output_type": "execute_result",
          "data": {
            "text/plain": [
              "            Row ID   Postal Code         Sales     Quantity     Discount  \\\n",
              "count  9994.000000   9994.000000   9994.000000  9994.000000  9994.000000   \n",
              "mean   4997.500000  55190.379428    229.858001     3.789574     0.156203   \n",
              "std    2885.163629  32063.693350    623.245101     2.225110     0.206452   \n",
              "min       1.000000   1040.000000      0.444000     1.000000     0.000000   \n",
              "25%    2499.250000  23223.000000     17.280000     2.000000     0.000000   \n",
              "50%    4997.500000  56430.500000     54.490000     3.000000     0.200000   \n",
              "75%    7495.750000  90008.000000    209.940000     5.000000     0.200000   \n",
              "max    9994.000000  99301.000000  22638.480000    14.000000     0.800000   \n",
              "\n",
              "            Profit  \n",
              "count  9994.000000  \n",
              "mean     28.656896  \n",
              "std     234.260108  \n",
              "min   -6599.978000  \n",
              "25%       1.728750  \n",
              "50%       8.666500  \n",
              "75%      29.364000  \n",
              "max    8399.976000  "
            ],
            "text/html": [
              "\n",
              "  <div id=\"df-981ae009-a112-4126-b1db-0bdb30d5fe90\" class=\"colab-df-container\">\n",
              "    <div>\n",
              "<style scoped>\n",
              "    .dataframe tbody tr th:only-of-type {\n",
              "        vertical-align: middle;\n",
              "    }\n",
              "\n",
              "    .dataframe tbody tr th {\n",
              "        vertical-align: top;\n",
              "    }\n",
              "\n",
              "    .dataframe thead th {\n",
              "        text-align: right;\n",
              "    }\n",
              "</style>\n",
              "<table border=\"1\" class=\"dataframe\">\n",
              "  <thead>\n",
              "    <tr style=\"text-align: right;\">\n",
              "      <th></th>\n",
              "      <th>Row ID</th>\n",
              "      <th>Postal Code</th>\n",
              "      <th>Sales</th>\n",
              "      <th>Quantity</th>\n",
              "      <th>Discount</th>\n",
              "      <th>Profit</th>\n",
              "    </tr>\n",
              "  </thead>\n",
              "  <tbody>\n",
              "    <tr>\n",
              "      <th>count</th>\n",
              "      <td>9994.000000</td>\n",
              "      <td>9994.000000</td>\n",
              "      <td>9994.000000</td>\n",
              "      <td>9994.000000</td>\n",
              "      <td>9994.000000</td>\n",
              "      <td>9994.000000</td>\n",
              "    </tr>\n",
              "    <tr>\n",
              "      <th>mean</th>\n",
              "      <td>4997.500000</td>\n",
              "      <td>55190.379428</td>\n",
              "      <td>229.858001</td>\n",
              "      <td>3.789574</td>\n",
              "      <td>0.156203</td>\n",
              "      <td>28.656896</td>\n",
              "    </tr>\n",
              "    <tr>\n",
              "      <th>std</th>\n",
              "      <td>2885.163629</td>\n",
              "      <td>32063.693350</td>\n",
              "      <td>623.245101</td>\n",
              "      <td>2.225110</td>\n",
              "      <td>0.206452</td>\n",
              "      <td>234.260108</td>\n",
              "    </tr>\n",
              "    <tr>\n",
              "      <th>min</th>\n",
              "      <td>1.000000</td>\n",
              "      <td>1040.000000</td>\n",
              "      <td>0.444000</td>\n",
              "      <td>1.000000</td>\n",
              "      <td>0.000000</td>\n",
              "      <td>-6599.978000</td>\n",
              "    </tr>\n",
              "    <tr>\n",
              "      <th>25%</th>\n",
              "      <td>2499.250000</td>\n",
              "      <td>23223.000000</td>\n",
              "      <td>17.280000</td>\n",
              "      <td>2.000000</td>\n",
              "      <td>0.000000</td>\n",
              "      <td>1.728750</td>\n",
              "    </tr>\n",
              "    <tr>\n",
              "      <th>50%</th>\n",
              "      <td>4997.500000</td>\n",
              "      <td>56430.500000</td>\n",
              "      <td>54.490000</td>\n",
              "      <td>3.000000</td>\n",
              "      <td>0.200000</td>\n",
              "      <td>8.666500</td>\n",
              "    </tr>\n",
              "    <tr>\n",
              "      <th>75%</th>\n",
              "      <td>7495.750000</td>\n",
              "      <td>90008.000000</td>\n",
              "      <td>209.940000</td>\n",
              "      <td>5.000000</td>\n",
              "      <td>0.200000</td>\n",
              "      <td>29.364000</td>\n",
              "    </tr>\n",
              "    <tr>\n",
              "      <th>max</th>\n",
              "      <td>9994.000000</td>\n",
              "      <td>99301.000000</td>\n",
              "      <td>22638.480000</td>\n",
              "      <td>14.000000</td>\n",
              "      <td>0.800000</td>\n",
              "      <td>8399.976000</td>\n",
              "    </tr>\n",
              "  </tbody>\n",
              "</table>\n",
              "</div>\n",
              "    <div class=\"colab-df-buttons\">\n",
              "\n",
              "  <div class=\"colab-df-container\">\n",
              "    <button class=\"colab-df-convert\" onclick=\"convertToInteractive('df-981ae009-a112-4126-b1db-0bdb30d5fe90')\"\n",
              "            title=\"Convert this dataframe to an interactive table.\"\n",
              "            style=\"display:none;\">\n",
              "\n",
              "  <svg xmlns=\"http://www.w3.org/2000/svg\" height=\"24px\" viewBox=\"0 -960 960 960\">\n",
              "    <path d=\"M120-120v-720h720v720H120Zm60-500h600v-160H180v160Zm220 220h160v-160H400v160Zm0 220h160v-160H400v160ZM180-400h160v-160H180v160Zm440 0h160v-160H620v160ZM180-180h160v-160H180v160Zm440 0h160v-160H620v160Z\"/>\n",
              "  </svg>\n",
              "    </button>\n",
              "\n",
              "  <style>\n",
              "    .colab-df-container {\n",
              "      display:flex;\n",
              "      gap: 12px;\n",
              "    }\n",
              "\n",
              "    .colab-df-convert {\n",
              "      background-color: #E8F0FE;\n",
              "      border: none;\n",
              "      border-radius: 50%;\n",
              "      cursor: pointer;\n",
              "      display: none;\n",
              "      fill: #1967D2;\n",
              "      height: 32px;\n",
              "      padding: 0 0 0 0;\n",
              "      width: 32px;\n",
              "    }\n",
              "\n",
              "    .colab-df-convert:hover {\n",
              "      background-color: #E2EBFA;\n",
              "      box-shadow: 0px 1px 2px rgba(60, 64, 67, 0.3), 0px 1px 3px 1px rgba(60, 64, 67, 0.15);\n",
              "      fill: #174EA6;\n",
              "    }\n",
              "\n",
              "    .colab-df-buttons div {\n",
              "      margin-bottom: 4px;\n",
              "    }\n",
              "\n",
              "    [theme=dark] .colab-df-convert {\n",
              "      background-color: #3B4455;\n",
              "      fill: #D2E3FC;\n",
              "    }\n",
              "\n",
              "    [theme=dark] .colab-df-convert:hover {\n",
              "      background-color: #434B5C;\n",
              "      box-shadow: 0px 1px 3px 1px rgba(0, 0, 0, 0.15);\n",
              "      filter: drop-shadow(0px 1px 2px rgba(0, 0, 0, 0.3));\n",
              "      fill: #FFFFFF;\n",
              "    }\n",
              "  </style>\n",
              "\n",
              "    <script>\n",
              "      const buttonEl =\n",
              "        document.querySelector('#df-981ae009-a112-4126-b1db-0bdb30d5fe90 button.colab-df-convert');\n",
              "      buttonEl.style.display =\n",
              "        google.colab.kernel.accessAllowed ? 'block' : 'none';\n",
              "\n",
              "      async function convertToInteractive(key) {\n",
              "        const element = document.querySelector('#df-981ae009-a112-4126-b1db-0bdb30d5fe90');\n",
              "        const dataTable =\n",
              "          await google.colab.kernel.invokeFunction('convertToInteractive',\n",
              "                                                    [key], {});\n",
              "        if (!dataTable) return;\n",
              "\n",
              "        const docLinkHtml = 'Like what you see? Visit the ' +\n",
              "          '<a target=\"_blank\" href=https://colab.research.google.com/notebooks/data_table.ipynb>data table notebook</a>'\n",
              "          + ' to learn more about interactive tables.';\n",
              "        element.innerHTML = '';\n",
              "        dataTable['output_type'] = 'display_data';\n",
              "        await google.colab.output.renderOutput(dataTable, element);\n",
              "        const docLink = document.createElement('div');\n",
              "        docLink.innerHTML = docLinkHtml;\n",
              "        element.appendChild(docLink);\n",
              "      }\n",
              "    </script>\n",
              "  </div>\n",
              "\n",
              "\n",
              "    <div id=\"df-8a5335c7-8f1a-47f2-9663-f3705eac4ed8\">\n",
              "      <button class=\"colab-df-quickchart\" onclick=\"quickchart('df-8a5335c7-8f1a-47f2-9663-f3705eac4ed8')\"\n",
              "                title=\"Suggest charts\"\n",
              "                style=\"display:none;\">\n",
              "\n",
              "<svg xmlns=\"http://www.w3.org/2000/svg\" height=\"24px\"viewBox=\"0 0 24 24\"\n",
              "     width=\"24px\">\n",
              "    <g>\n",
              "        <path d=\"M19 3H5c-1.1 0-2 .9-2 2v14c0 1.1.9 2 2 2h14c1.1 0 2-.9 2-2V5c0-1.1-.9-2-2-2zM9 17H7v-7h2v7zm4 0h-2V7h2v10zm4 0h-2v-4h2v4z\"/>\n",
              "    </g>\n",
              "</svg>\n",
              "      </button>\n",
              "\n",
              "<style>\n",
              "  .colab-df-quickchart {\n",
              "      --bg-color: #E8F0FE;\n",
              "      --fill-color: #1967D2;\n",
              "      --hover-bg-color: #E2EBFA;\n",
              "      --hover-fill-color: #174EA6;\n",
              "      --disabled-fill-color: #AAA;\n",
              "      --disabled-bg-color: #DDD;\n",
              "  }\n",
              "\n",
              "  [theme=dark] .colab-df-quickchart {\n",
              "      --bg-color: #3B4455;\n",
              "      --fill-color: #D2E3FC;\n",
              "      --hover-bg-color: #434B5C;\n",
              "      --hover-fill-color: #FFFFFF;\n",
              "      --disabled-bg-color: #3B4455;\n",
              "      --disabled-fill-color: #666;\n",
              "  }\n",
              "\n",
              "  .colab-df-quickchart {\n",
              "    background-color: var(--bg-color);\n",
              "    border: none;\n",
              "    border-radius: 50%;\n",
              "    cursor: pointer;\n",
              "    display: none;\n",
              "    fill: var(--fill-color);\n",
              "    height: 32px;\n",
              "    padding: 0;\n",
              "    width: 32px;\n",
              "  }\n",
              "\n",
              "  .colab-df-quickchart:hover {\n",
              "    background-color: var(--hover-bg-color);\n",
              "    box-shadow: 0 1px 2px rgba(60, 64, 67, 0.3), 0 1px 3px 1px rgba(60, 64, 67, 0.15);\n",
              "    fill: var(--button-hover-fill-color);\n",
              "  }\n",
              "\n",
              "  .colab-df-quickchart-complete:disabled,\n",
              "  .colab-df-quickchart-complete:disabled:hover {\n",
              "    background-color: var(--disabled-bg-color);\n",
              "    fill: var(--disabled-fill-color);\n",
              "    box-shadow: none;\n",
              "  }\n",
              "\n",
              "  .colab-df-spinner {\n",
              "    border: 2px solid var(--fill-color);\n",
              "    border-color: transparent;\n",
              "    border-bottom-color: var(--fill-color);\n",
              "    animation:\n",
              "      spin 1s steps(1) infinite;\n",
              "  }\n",
              "\n",
              "  @keyframes spin {\n",
              "    0% {\n",
              "      border-color: transparent;\n",
              "      border-bottom-color: var(--fill-color);\n",
              "      border-left-color: var(--fill-color);\n",
              "    }\n",
              "    20% {\n",
              "      border-color: transparent;\n",
              "      border-left-color: var(--fill-color);\n",
              "      border-top-color: var(--fill-color);\n",
              "    }\n",
              "    30% {\n",
              "      border-color: transparent;\n",
              "      border-left-color: var(--fill-color);\n",
              "      border-top-color: var(--fill-color);\n",
              "      border-right-color: var(--fill-color);\n",
              "    }\n",
              "    40% {\n",
              "      border-color: transparent;\n",
              "      border-right-color: var(--fill-color);\n",
              "      border-top-color: var(--fill-color);\n",
              "    }\n",
              "    60% {\n",
              "      border-color: transparent;\n",
              "      border-right-color: var(--fill-color);\n",
              "    }\n",
              "    80% {\n",
              "      border-color: transparent;\n",
              "      border-right-color: var(--fill-color);\n",
              "      border-bottom-color: var(--fill-color);\n",
              "    }\n",
              "    90% {\n",
              "      border-color: transparent;\n",
              "      border-bottom-color: var(--fill-color);\n",
              "    }\n",
              "  }\n",
              "</style>\n",
              "\n",
              "      <script>\n",
              "        async function quickchart(key) {\n",
              "          const quickchartButtonEl =\n",
              "            document.querySelector('#' + key + ' button');\n",
              "          quickchartButtonEl.disabled = true;  // To prevent multiple clicks.\n",
              "          quickchartButtonEl.classList.add('colab-df-spinner');\n",
              "          try {\n",
              "            const charts = await google.colab.kernel.invokeFunction(\n",
              "                'suggestCharts', [key], {});\n",
              "          } catch (error) {\n",
              "            console.error('Error during call to suggestCharts:', error);\n",
              "          }\n",
              "          quickchartButtonEl.classList.remove('colab-df-spinner');\n",
              "          quickchartButtonEl.classList.add('colab-df-quickchart-complete');\n",
              "        }\n",
              "        (() => {\n",
              "          let quickchartButtonEl =\n",
              "            document.querySelector('#df-8a5335c7-8f1a-47f2-9663-f3705eac4ed8 button');\n",
              "          quickchartButtonEl.style.display =\n",
              "            google.colab.kernel.accessAllowed ? 'block' : 'none';\n",
              "        })();\n",
              "      </script>\n",
              "    </div>\n",
              "\n",
              "    </div>\n",
              "  </div>\n"
            ],
            "application/vnd.google.colaboratory.intrinsic+json": {
              "type": "dataframe",
              "summary": "{\n  \"name\": \"store\",\n  \"rows\": 8,\n  \"fields\": [\n    {\n      \"column\": \"Row ID\",\n      \"properties\": {\n        \"dtype\": \"number\",\n        \"std\": 3601.5811575098865,\n        \"min\": 1.0,\n        \"max\": 9994.0,\n        \"num_unique_values\": 6,\n        \"samples\": [\n          9994.0,\n          4997.5,\n          7495.75\n        ],\n        \"semantic_type\": \"\",\n        \"description\": \"\"\n      }\n    },\n    {\n      \"column\": \"Postal Code\",\n      \"properties\": {\n        \"dtype\": \"number\",\n        \"std\": 35860.31406157157,\n        \"min\": 1040.0,\n        \"max\": 99301.0,\n        \"num_unique_values\": 8,\n        \"samples\": [\n          55190.3794276566,\n          56430.5,\n          9994.0\n        ],\n        \"semantic_type\": \"\",\n        \"description\": \"\"\n      }\n    },\n    {\n      \"column\": \"Sales\",\n      \"properties\": {\n        \"dtype\": \"number\",\n        \"std\": 8197.010918685499,\n        \"min\": 0.444,\n        \"max\": 22638.48,\n        \"num_unique_values\": 8,\n        \"samples\": [\n          229.85800083049833,\n          54.489999999999995,\n          9994.0\n        ],\n        \"semantic_type\": \"\",\n        \"description\": \"\"\n      }\n    },\n    {\n      \"column\": \"Quantity\",\n      \"properties\": {\n        \"dtype\": \"number\",\n        \"std\": 3531.848471644344,\n        \"min\": 1.0,\n        \"max\": 9994.0,\n        \"num_unique_values\": 8,\n        \"samples\": [\n          3.789573744246548,\n          3.0,\n          9994.0\n        ],\n        \"semantic_type\": \"\",\n        \"description\": \"\"\n      }\n    },\n    {\n      \"column\": \"Discount\",\n      \"properties\": {\n        \"dtype\": \"number\",\n        \"std\": 3533.3336684667293,\n        \"min\": 0.0,\n        \"max\": 9994.0,\n        \"num_unique_values\": 6,\n        \"samples\": [\n          9994.0,\n          0.15620272163297977,\n          0.8\n        ],\n        \"semantic_type\": \"\",\n        \"description\": \"\"\n      }\n    },\n    {\n      \"column\": \"Profit\",\n      \"properties\": {\n        \"dtype\": \"number\",\n        \"std\": 5288.326642672474,\n        \"min\": -6599.978,\n        \"max\": 9994.0,\n        \"num_unique_values\": 8,\n        \"samples\": [\n          28.65689630778467,\n          8.6665,\n          9994.0\n        ],\n        \"semantic_type\": \"\",\n        \"description\": \"\"\n      }\n    }\n  ]\n}"
            }
          },
          "metadata": {},
          "execution_count": 61
        }
      ]
    },
    {
      "cell_type": "code",
      "source": [
        "store[\"Order Date\"].head(3)\n"
      ],
      "metadata": {
        "colab": {
          "base_uri": "https://localhost:8080/",
          "height": 178
        },
        "id": "dFQisdAfFBVI",
        "outputId": "ec9e332c-9ca2-4f5a-d948-cd01b98a4c28"
      },
      "execution_count": null,
      "outputs": [
        {
          "output_type": "execute_result",
          "data": {
            "text/plain": [
              "0    11/8/2016\n",
              "1    11/8/2016\n",
              "2    6/12/2016\n",
              "Name: Order Date, dtype: object"
            ],
            "text/html": [
              "<div>\n",
              "<style scoped>\n",
              "    .dataframe tbody tr th:only-of-type {\n",
              "        vertical-align: middle;\n",
              "    }\n",
              "\n",
              "    .dataframe tbody tr th {\n",
              "        vertical-align: top;\n",
              "    }\n",
              "\n",
              "    .dataframe thead th {\n",
              "        text-align: right;\n",
              "    }\n",
              "</style>\n",
              "<table border=\"1\" class=\"dataframe\">\n",
              "  <thead>\n",
              "    <tr style=\"text-align: right;\">\n",
              "      <th></th>\n",
              "      <th>Order Date</th>\n",
              "    </tr>\n",
              "  </thead>\n",
              "  <tbody>\n",
              "    <tr>\n",
              "      <th>0</th>\n",
              "      <td>11/8/2016</td>\n",
              "    </tr>\n",
              "    <tr>\n",
              "      <th>1</th>\n",
              "      <td>11/8/2016</td>\n",
              "    </tr>\n",
              "    <tr>\n",
              "      <th>2</th>\n",
              "      <td>6/12/2016</td>\n",
              "    </tr>\n",
              "  </tbody>\n",
              "</table>\n",
              "</div><br><label><b>dtype:</b> object</label>"
            ]
          },
          "metadata": {},
          "execution_count": 62
        }
      ]
    },
    {
      "cell_type": "code",
      "source": [
        "store[\"Ship Date\"].head(3)"
      ],
      "metadata": {
        "colab": {
          "base_uri": "https://localhost:8080/",
          "height": 178
        },
        "id": "3SdXCxI3FdHn",
        "outputId": "d8f0d03f-07d6-4868-dac7-bc5b6f52a1f8"
      },
      "execution_count": null,
      "outputs": [
        {
          "output_type": "execute_result",
          "data": {
            "text/plain": [
              "0    11/11/2016\n",
              "1    11/11/2016\n",
              "2     6/16/2016\n",
              "Name: Ship Date, dtype: object"
            ],
            "text/html": [
              "<div>\n",
              "<style scoped>\n",
              "    .dataframe tbody tr th:only-of-type {\n",
              "        vertical-align: middle;\n",
              "    }\n",
              "\n",
              "    .dataframe tbody tr th {\n",
              "        vertical-align: top;\n",
              "    }\n",
              "\n",
              "    .dataframe thead th {\n",
              "        text-align: right;\n",
              "    }\n",
              "</style>\n",
              "<table border=\"1\" class=\"dataframe\">\n",
              "  <thead>\n",
              "    <tr style=\"text-align: right;\">\n",
              "      <th></th>\n",
              "      <th>Ship Date</th>\n",
              "    </tr>\n",
              "  </thead>\n",
              "  <tbody>\n",
              "    <tr>\n",
              "      <th>0</th>\n",
              "      <td>11/11/2016</td>\n",
              "    </tr>\n",
              "    <tr>\n",
              "      <th>1</th>\n",
              "      <td>11/11/2016</td>\n",
              "    </tr>\n",
              "    <tr>\n",
              "      <th>2</th>\n",
              "      <td>6/16/2016</td>\n",
              "    </tr>\n",
              "  </tbody>\n",
              "</table>\n",
              "</div><br><label><b>dtype:</b> object</label>"
            ]
          },
          "metadata": {},
          "execution_count": 63
        }
      ]
    },
    {
      "cell_type": "code",
      "source": [
        "# Fixing the data type for the date\n",
        "store[\"Order Date\"] = pd.to_datetime(store[\"Order Date\"])\n",
        "store[\"Ship Date\"] = pd.to_datetime(store[\"Ship Date\"])"
      ],
      "metadata": {
        "id": "yEmUxVMXDxy6"
      },
      "execution_count": null,
      "outputs": []
    },
    {
      "cell_type": "code",
      "source": [
        "# verifying the dates\n",
        "store[\"Order Date\"].head(3)"
      ],
      "metadata": {
        "colab": {
          "base_uri": "https://localhost:8080/",
          "height": 178
        },
        "id": "aWbbeng_F5v7",
        "outputId": "43f1723d-5f57-4882-d822-7d2259d8ba95"
      },
      "execution_count": null,
      "outputs": [
        {
          "output_type": "execute_result",
          "data": {
            "text/plain": [
              "0   2016-11-08\n",
              "1   2016-11-08\n",
              "2   2016-06-12\n",
              "Name: Order Date, dtype: datetime64[ns]"
            ],
            "text/html": [
              "<div>\n",
              "<style scoped>\n",
              "    .dataframe tbody tr th:only-of-type {\n",
              "        vertical-align: middle;\n",
              "    }\n",
              "\n",
              "    .dataframe tbody tr th {\n",
              "        vertical-align: top;\n",
              "    }\n",
              "\n",
              "    .dataframe thead th {\n",
              "        text-align: right;\n",
              "    }\n",
              "</style>\n",
              "<table border=\"1\" class=\"dataframe\">\n",
              "  <thead>\n",
              "    <tr style=\"text-align: right;\">\n",
              "      <th></th>\n",
              "      <th>Order Date</th>\n",
              "    </tr>\n",
              "  </thead>\n",
              "  <tbody>\n",
              "    <tr>\n",
              "      <th>0</th>\n",
              "      <td>2016-11-08</td>\n",
              "    </tr>\n",
              "    <tr>\n",
              "      <th>1</th>\n",
              "      <td>2016-11-08</td>\n",
              "    </tr>\n",
              "    <tr>\n",
              "      <th>2</th>\n",
              "      <td>2016-06-12</td>\n",
              "    </tr>\n",
              "  </tbody>\n",
              "</table>\n",
              "</div><br><label><b>dtype:</b> datetime64[ns]</label>"
            ]
          },
          "metadata": {},
          "execution_count": 65
        }
      ]
    },
    {
      "cell_type": "markdown",
      "source": [
        "#### **3.1 TOP SELLING CATEGORIES & SUB-CATEGORIES**"
      ],
      "metadata": {
        "id": "gxV2FjX3HcNX"
      }
    },
    {
      "cell_type": "code",
      "source": [
        "# The unique categories in the dataset\n",
        "store[\"Category\"].unique()"
      ],
      "metadata": {
        "colab": {
          "base_uri": "https://localhost:8080/"
        },
        "id": "n8YM-GFYGEUl",
        "outputId": "0afb92e6-a15a-4d3e-f6c9-9dccdc16b0dc"
      },
      "execution_count": null,
      "outputs": [
        {
          "output_type": "execute_result",
          "data": {
            "text/plain": [
              "array(['Furniture', 'Office Supplies', 'Technology'], dtype=object)"
            ]
          },
          "metadata": {},
          "execution_count": 66
        }
      ]
    },
    {
      "cell_type": "code",
      "source": [
        "# showing the values counts by the categories\n",
        "store[\"Category\"].value_counts()"
      ],
      "metadata": {
        "colab": {
          "base_uri": "https://localhost:8080/",
          "height": 209
        },
        "id": "KWrKBijkIV6P",
        "outputId": "5e4829ed-d66e-4e5f-9360-82566e9b3a15"
      },
      "execution_count": null,
      "outputs": [
        {
          "output_type": "execute_result",
          "data": {
            "text/plain": [
              "Category\n",
              "Office Supplies    6026\n",
              "Furniture          2121\n",
              "Technology         1847\n",
              "Name: count, dtype: int64"
            ],
            "text/html": [
              "<div>\n",
              "<style scoped>\n",
              "    .dataframe tbody tr th:only-of-type {\n",
              "        vertical-align: middle;\n",
              "    }\n",
              "\n",
              "    .dataframe tbody tr th {\n",
              "        vertical-align: top;\n",
              "    }\n",
              "\n",
              "    .dataframe thead th {\n",
              "        text-align: right;\n",
              "    }\n",
              "</style>\n",
              "<table border=\"1\" class=\"dataframe\">\n",
              "  <thead>\n",
              "    <tr style=\"text-align: right;\">\n",
              "      <th></th>\n",
              "      <th>count</th>\n",
              "    </tr>\n",
              "    <tr>\n",
              "      <th>Category</th>\n",
              "      <th></th>\n",
              "    </tr>\n",
              "  </thead>\n",
              "  <tbody>\n",
              "    <tr>\n",
              "      <th>Office Supplies</th>\n",
              "      <td>6026</td>\n",
              "    </tr>\n",
              "    <tr>\n",
              "      <th>Furniture</th>\n",
              "      <td>2121</td>\n",
              "    </tr>\n",
              "    <tr>\n",
              "      <th>Technology</th>\n",
              "      <td>1847</td>\n",
              "    </tr>\n",
              "  </tbody>\n",
              "</table>\n",
              "</div><br><label><b>dtype:</b> int64</label>"
            ]
          },
          "metadata": {},
          "execution_count": 67
        }
      ]
    },
    {
      "cell_type": "code",
      "source": [
        "# Grouping by the categories to see the count of the sub categories\n",
        "store.groupby(\"Category\")[\"Sub-Category\"].value_counts()"
      ],
      "metadata": {
        "colab": {
          "base_uri": "https://localhost:8080/",
          "height": 648
        },
        "id": "Tvgv635ZJmsm",
        "outputId": "a2169ca1-564c-47f7-e200-b303e89d6955"
      },
      "execution_count": null,
      "outputs": [
        {
          "output_type": "execute_result",
          "data": {
            "text/plain": [
              "Category         Sub-Category\n",
              "Furniture        Furnishings      957\n",
              "                 Chairs           617\n",
              "                 Tables           319\n",
              "                 Bookcases        228\n",
              "Office Supplies  Binders         1523\n",
              "                 Paper           1370\n",
              "                 Storage          846\n",
              "                 Art              796\n",
              "                 Appliances       466\n",
              "                 Labels           364\n",
              "                 Envelopes        254\n",
              "                 Fasteners        217\n",
              "                 Supplies         190\n",
              "Technology       Phones           889\n",
              "                 Accessories      775\n",
              "                 Machines         115\n",
              "                 Copiers           68\n",
              "Name: count, dtype: int64"
            ],
            "text/html": [
              "<div>\n",
              "<style scoped>\n",
              "    .dataframe tbody tr th:only-of-type {\n",
              "        vertical-align: middle;\n",
              "    }\n",
              "\n",
              "    .dataframe tbody tr th {\n",
              "        vertical-align: top;\n",
              "    }\n",
              "\n",
              "    .dataframe thead th {\n",
              "        text-align: right;\n",
              "    }\n",
              "</style>\n",
              "<table border=\"1\" class=\"dataframe\">\n",
              "  <thead>\n",
              "    <tr style=\"text-align: right;\">\n",
              "      <th></th>\n",
              "      <th></th>\n",
              "      <th>count</th>\n",
              "    </tr>\n",
              "    <tr>\n",
              "      <th>Category</th>\n",
              "      <th>Sub-Category</th>\n",
              "      <th></th>\n",
              "    </tr>\n",
              "  </thead>\n",
              "  <tbody>\n",
              "    <tr>\n",
              "      <th rowspan=\"4\" valign=\"top\">Furniture</th>\n",
              "      <th>Furnishings</th>\n",
              "      <td>957</td>\n",
              "    </tr>\n",
              "    <tr>\n",
              "      <th>Chairs</th>\n",
              "      <td>617</td>\n",
              "    </tr>\n",
              "    <tr>\n",
              "      <th>Tables</th>\n",
              "      <td>319</td>\n",
              "    </tr>\n",
              "    <tr>\n",
              "      <th>Bookcases</th>\n",
              "      <td>228</td>\n",
              "    </tr>\n",
              "    <tr>\n",
              "      <th rowspan=\"9\" valign=\"top\">Office Supplies</th>\n",
              "      <th>Binders</th>\n",
              "      <td>1523</td>\n",
              "    </tr>\n",
              "    <tr>\n",
              "      <th>Paper</th>\n",
              "      <td>1370</td>\n",
              "    </tr>\n",
              "    <tr>\n",
              "      <th>Storage</th>\n",
              "      <td>846</td>\n",
              "    </tr>\n",
              "    <tr>\n",
              "      <th>Art</th>\n",
              "      <td>796</td>\n",
              "    </tr>\n",
              "    <tr>\n",
              "      <th>Appliances</th>\n",
              "      <td>466</td>\n",
              "    </tr>\n",
              "    <tr>\n",
              "      <th>Labels</th>\n",
              "      <td>364</td>\n",
              "    </tr>\n",
              "    <tr>\n",
              "      <th>Envelopes</th>\n",
              "      <td>254</td>\n",
              "    </tr>\n",
              "    <tr>\n",
              "      <th>Fasteners</th>\n",
              "      <td>217</td>\n",
              "    </tr>\n",
              "    <tr>\n",
              "      <th>Supplies</th>\n",
              "      <td>190</td>\n",
              "    </tr>\n",
              "    <tr>\n",
              "      <th rowspan=\"4\" valign=\"top\">Technology</th>\n",
              "      <th>Phones</th>\n",
              "      <td>889</td>\n",
              "    </tr>\n",
              "    <tr>\n",
              "      <th>Accessories</th>\n",
              "      <td>775</td>\n",
              "    </tr>\n",
              "    <tr>\n",
              "      <th>Machines</th>\n",
              "      <td>115</td>\n",
              "    </tr>\n",
              "    <tr>\n",
              "      <th>Copiers</th>\n",
              "      <td>68</td>\n",
              "    </tr>\n",
              "  </tbody>\n",
              "</table>\n",
              "</div><br><label><b>dtype:</b> int64</label>"
            ]
          },
          "metadata": {},
          "execution_count": 68
        }
      ]
    },
    {
      "cell_type": "code",
      "source": [
        "# The unique subcategories\n",
        "store[\"Sub-Category\"].unique()"
      ],
      "metadata": {
        "colab": {
          "base_uri": "https://localhost:8080/"
        },
        "id": "WubZbygSH4Zd",
        "outputId": "2341d7f8-a5b3-4e1c-86fb-bb0ccba7eb9b"
      },
      "execution_count": null,
      "outputs": [
        {
          "output_type": "execute_result",
          "data": {
            "text/plain": [
              "array(['Bookcases', 'Chairs', 'Labels', 'Tables', 'Storage',\n",
              "       'Furnishings', 'Art', 'Phones', 'Binders', 'Appliances', 'Paper',\n",
              "       'Accessories', 'Envelopes', 'Fasteners', 'Supplies', 'Machines',\n",
              "       'Copiers'], dtype=object)"
            ]
          },
          "metadata": {},
          "execution_count": 69
        }
      ]
    },
    {
      "cell_type": "code",
      "source": [
        "# Top selling category\n",
        "Category_sales = store.groupby(\"Category\")[\"Sales\"].sum().sort_values(ascending = False)\n",
        "Category_sales"
      ],
      "metadata": {
        "colab": {
          "base_uri": "https://localhost:8080/",
          "height": 209
        },
        "id": "-AIRI2esILRH",
        "outputId": "aab5067a-9f62-4033-9e32-29c06997ab28"
      },
      "execution_count": null,
      "outputs": [
        {
          "output_type": "execute_result",
          "data": {
            "text/plain": [
              "Category\n",
              "Technology         836154.0330\n",
              "Furniture          741999.7953\n",
              "Office Supplies    719047.0320\n",
              "Name: Sales, dtype: float64"
            ],
            "text/html": [
              "<div>\n",
              "<style scoped>\n",
              "    .dataframe tbody tr th:only-of-type {\n",
              "        vertical-align: middle;\n",
              "    }\n",
              "\n",
              "    .dataframe tbody tr th {\n",
              "        vertical-align: top;\n",
              "    }\n",
              "\n",
              "    .dataframe thead th {\n",
              "        text-align: right;\n",
              "    }\n",
              "</style>\n",
              "<table border=\"1\" class=\"dataframe\">\n",
              "  <thead>\n",
              "    <tr style=\"text-align: right;\">\n",
              "      <th></th>\n",
              "      <th>Sales</th>\n",
              "    </tr>\n",
              "    <tr>\n",
              "      <th>Category</th>\n",
              "      <th></th>\n",
              "    </tr>\n",
              "  </thead>\n",
              "  <tbody>\n",
              "    <tr>\n",
              "      <th>Technology</th>\n",
              "      <td>836154.0330</td>\n",
              "    </tr>\n",
              "    <tr>\n",
              "      <th>Furniture</th>\n",
              "      <td>741999.7953</td>\n",
              "    </tr>\n",
              "    <tr>\n",
              "      <th>Office Supplies</th>\n",
              "      <td>719047.0320</td>\n",
              "    </tr>\n",
              "  </tbody>\n",
              "</table>\n",
              "</div><br><label><b>dtype:</b> float64</label>"
            ]
          },
          "metadata": {},
          "execution_count": 70
        }
      ]
    },
    {
      "cell_type": "markdown",
      "source": [
        "The ***Technology*** category made the highest sales"
      ],
      "metadata": {
        "id": "jRuYf3GxLLIu"
      }
    },
    {
      "cell_type": "code",
      "source": [
        "# Plotting visuals for the above\n",
        "# Choosing the colours for each category\n",
        "colours = [\"blue\", \"#FFDAB9\", \"greenyellow\"]\n",
        "Category_sales.plot(kind = \"bar\", color = colours)\n",
        "\n",
        "plt.title(\"Top Sales by Category\")\n",
        "plt.ylabel(\"Sales\")\n",
        "plt.xlabel(\"Category\")\n",
        "plt.tight_layout()\n",
        "plt.show()"
      ],
      "metadata": {
        "colab": {
          "base_uri": "https://localhost:8080/",
          "height": 487
        },
        "id": "B7Xw6IPVKtI9",
        "outputId": "d95944b7-27df-4b89-8017-dbbf9871a031"
      },
      "execution_count": null,
      "outputs": [
        {
          "output_type": "display_data",
          "data": {
            "text/plain": [
              "<Figure size 640x480 with 1 Axes>"
            ],
            "image/png": "[encoded data removed]"
          },
          "metadata": {}
        }
      ]
    },
    {
      "cell_type": "code",
      "source": [
        "# Top selling sub-category\n",
        "Sub_category_sales = store.groupby(\"Sub-Category\")[\"Sales\"].sum().sort_values(ascending = False)\n",
        "Sub_category_sales"
      ],
      "metadata": {
        "colab": {
          "base_uri": "https://localhost:8080/",
          "height": 648
        },
        "id": "QgmJ5n0sOFel",
        "outputId": "b5ed2b5c-77a6-47d8-90b1-899fc2a97a03"
      },
      "execution_count": null,
      "outputs": [
        {
          "output_type": "execute_result",
          "data": {
            "text/plain": [
              "Sub-Category\n",
              "Phones         330007.0540\n",
              "Chairs         328449.1030\n",
              "Storage        223843.6080\n",
              "Tables         206965.5320\n",
              "Binders        203412.7330\n",
              "Machines       189238.6310\n",
              "Accessories    167380.3180\n",
              "Copiers        149528.0300\n",
              "Bookcases      114879.9963\n",
              "Appliances     107532.1610\n",
              "Furnishings     91705.1640\n",
              "Paper           78479.2060\n",
              "Supplies        46673.5380\n",
              "Art             27118.7920\n",
              "Envelopes       16476.4020\n",
              "Labels          12486.3120\n",
              "Fasteners        3024.2800\n",
              "Name: Sales, dtype: float64"
            ],
            "text/html": [
              "<div>\n",
              "<style scoped>\n",
              "    .dataframe tbody tr th:only-of-type {\n",
              "        vertical-align: middle;\n",
              "    }\n",
              "\n",
              "    .dataframe tbody tr th {\n",
              "        vertical-align: top;\n",
              "    }\n",
              "\n",
              "    .dataframe thead th {\n",
              "        text-align: right;\n",
              "    }\n",
              "</style>\n",
              "<table border=\"1\" class=\"dataframe\">\n",
              "  <thead>\n",
              "    <tr style=\"text-align: right;\">\n",
              "      <th></th>\n",
              "      <th>Sales</th>\n",
              "    </tr>\n",
              "    <tr>\n",
              "      <th>Sub-Category</th>\n",
              "      <th></th>\n",
              "    </tr>\n",
              "  </thead>\n",
              "  <tbody>\n",
              "    <tr>\n",
              "      <th>Phones</th>\n",
              "      <td>330007.0540</td>\n",
              "    </tr>\n",
              "    <tr>\n",
              "      <th>Chairs</th>\n",
              "      <td>328449.1030</td>\n",
              "    </tr>\n",
              "    <tr>\n",
              "      <th>Storage</th>\n",
              "      <td>223843.6080</td>\n",
              "    </tr>\n",
              "    <tr>\n",
              "      <th>Tables</th>\n",
              "      <td>206965.5320</td>\n",
              "    </tr>\n",
              "    <tr>\n",
              "      <th>Binders</th>\n",
              "      <td>203412.7330</td>\n",
              "    </tr>\n",
              "    <tr>\n",
              "      <th>Machines</th>\n",
              "      <td>189238.6310</td>\n",
              "    </tr>\n",
              "    <tr>\n",
              "      <th>Accessories</th>\n",
              "      <td>167380.3180</td>\n",
              "    </tr>\n",
              "    <tr>\n",
              "      <th>Copiers</th>\n",
              "      <td>149528.0300</td>\n",
              "    </tr>\n",
              "    <tr>\n",
              "      <th>Bookcases</th>\n",
              "      <td>114879.9963</td>\n",
              "    </tr>\n",
              "    <tr>\n",
              "      <th>Appliances</th>\n",
              "      <td>107532.1610</td>\n",
              "    </tr>\n",
              "    <tr>\n",
              "      <th>Furnishings</th>\n",
              "      <td>91705.1640</td>\n",
              "    </tr>\n",
              "    <tr>\n",
              "      <th>Paper</th>\n",
              "      <td>78479.2060</td>\n",
              "    </tr>\n",
              "    <tr>\n",
              "      <th>Supplies</th>\n",
              "      <td>46673.5380</td>\n",
              "    </tr>\n",
              "    <tr>\n",
              "      <th>Art</th>\n",
              "      <td>27118.7920</td>\n",
              "    </tr>\n",
              "    <tr>\n",
              "      <th>Envelopes</th>\n",
              "      <td>16476.4020</td>\n",
              "    </tr>\n",
              "    <tr>\n",
              "      <th>Labels</th>\n",
              "      <td>12486.3120</td>\n",
              "    </tr>\n",
              "    <tr>\n",
              "      <th>Fasteners</th>\n",
              "      <td>3024.2800</td>\n",
              "    </tr>\n",
              "  </tbody>\n",
              "</table>\n",
              "</div><br><label><b>dtype:</b> float64</label>"
            ]
          },
          "metadata": {},
          "execution_count": 72
        }
      ]
    },
    {
      "cell_type": "markdown",
      "source": [
        "The ***Phones*** sub-category made the highest sales"
      ],
      "metadata": {
        "id": "Ibds4ZKRO6qu"
      }
    },
    {
      "cell_type": "code",
      "source": [
        "#vSales vs Profit by Sub-Category\n",
        "# Define your custom color palette\n",
        "custom_palette = {\n",
        "    \"Phones\": \"#FF6F61\",\n",
        "    \"Chairs\": \"#6B5B95\",\n",
        "    \"Storage\": \"#88B04B\",\n",
        "    \"Tables\": \"#800000\",\n",
        "    \"Binders\": \"#FFD700\",\n",
        "    \"Machines\": \"#BDB76B\",\n",
        "    \"Accessories\": \"#B0E0E6\",\n",
        "    \"Copiers\": \"#00008B\",\n",
        "    \"Bookcases\": \"#0000FF\",\n",
        "    \"Appliances\": \"#BC8F8F\",\n",
        "    \"Furnishings\": \"#8A2BE2\",\n",
        "    \"Paper\": \"#00FF00\",\n",
        "    \"Supplies\": \"#FF00FF\",\n",
        "    \"Art\": \"#708090\",\n",
        "    \"Envelopes\": \"#FFE4F1\",\n",
        "    \"Labels\": \"#000000\",\n",
        "    \"Fasteners\": \"#DAA520\"\n",
        "}\n",
        "\n",
        "plt.figure(figsize = (10, 6))\n",
        "\n",
        "sns.scatterplot(\n",
        "    x=\"Sales\",\n",
        "    y=\"Profit\",\n",
        "    hue=\"Sub-Category\",\n",
        "    data=store,\n",
        "    palette=custom_palette\n",
        ")\n",
        "\n",
        "plt.title(\"Sales vs Profit by Sub-Category\")\n",
        "plt.legend(title=\"Sub-Category\")\n",
        "plt.show()\n"
      ],
      "metadata": {
        "colab": {
          "base_uri": "https://localhost:8080/",
          "height": 564
        },
        "id": "iTKEcZlXmDai",
        "outputId": "80d096a9-c741-4a64-f5b2-c4ced03fc297"
      },
      "execution_count": null,
      "outputs": [
        {
          "output_type": "display_data",
          "data": {
            "text/plain": [
              "<Figure size 1000x600 with 1 Axes>"
            ],
            "image/png": "[encoded data removed]"
          },
          "metadata": {}
        }
      ]
    },
    {
      "cell_type": "code",
      "source": [
        "# Ploting visuals for the above using seaborn\n",
        "\n",
        "# setting figure size\n",
        "plt.figure(figsize = (10, 6))\n",
        "\n",
        "# preparing the data\n",
        "Sub_category_sales = store.groupby(\"Sub-Category\")[\"Sales\"].sum().reset_index()\n",
        "\n",
        "# sorting values\n",
        "Sub_category_sales = Sub_category_sales.sort_values(by = \"Sales\", ascending = False)\n",
        "\n",
        "# rotate x-axis label\n",
        "plt.xticks(rotation = 45)\n",
        "\n",
        "# plot\n",
        "sns.barplot(data = Sub_category_sales, x = \"Sub-Category\", y = \"Sales\", palette = \"Set2\", hue = \"Sub-Category\", legend = False )\n",
        "plt.title(\"Top Sales By Sub-Category\")\n",
        "plt.tight_layout()\n",
        "plt.show()"
      ],
      "metadata": {
        "colab": {
          "base_uri": "https://localhost:8080/",
          "height": 607
        },
        "id": "rHv7cjbvO6DN",
        "outputId": "1b014cf7-dc5a-4e70-8ab4-a98c2c0681a8"
      },
      "execution_count": null,
      "outputs": [
        {
          "output_type": "display_data",
          "data": {
            "text/plain": [
              "<Figure size 1000x600 with 1 Axes>"
            ],
            "image/png": "[encoded data removed]"
          },
          "metadata": {}
        }
      ]
    },
    {
      "cell_type": "markdown",
      "source": [
        "#### **3.2 Most Profitable Regions**"
      ],
      "metadata": {
        "id": "-yOfnSWfTWDP"
      }
    },
    {
      "cell_type": "code",
      "source": [
        "# Unique regions\n",
        "store[\"Region\"].unique()"
      ],
      "metadata": {
        "colab": {
          "base_uri": "https://localhost:8080/"
        },
        "id": "XP0VAomBLqGy",
        "outputId": "1ec236af-07ff-4a91-84c1-1cdbf5bcfa7d"
      },
      "execution_count": null,
      "outputs": [
        {
          "output_type": "execute_result",
          "data": {
            "text/plain": [
              "array(['South', 'West', 'Central', 'East'], dtype=object)"
            ]
          },
          "metadata": {},
          "execution_count": 75
        }
      ]
    },
    {
      "cell_type": "code",
      "source": [
        "# grouping by region to view by profit\n",
        "\n",
        "Region_profit = store.groupby(\"Region\")[\"Profit\"].sum().sort_values(ascending = False)\n",
        "\n",
        "# Choosing the colours for each category\n",
        "colours = [\"blue\", \"#FFDAB9\", \"greenyellow\", \"#B0C4DE\"]\n",
        "\n",
        "Region_profit.plot(kind = \"bar\", color = colours)\n",
        "\n",
        "plt.title(\"Profit by Region\")\n",
        "plt.ylabel(\"Profit\")\n",
        "plt.xlabel(\"Region\")\n",
        "plt.tight_layout()\n",
        "plt.show()"
      ],
      "metadata": {
        "colab": {
          "base_uri": "https://localhost:8080/",
          "height": 487
        },
        "id": "V4fPfDPCTsN2",
        "outputId": "21a4f55e-3a2c-423a-aca4-59876a0ac5d6"
      },
      "execution_count": null,
      "outputs": [
        {
          "output_type": "display_data",
          "data": {
            "text/plain": [
              "<Figure size 640x480 with 1 Axes>"
            ],
            "image/png": "[encoded data removed]"
          },
          "metadata": {}
        }
      ]
    },
    {
      "cell_type": "markdown",
      "source": [
        "The most profitable region is the ***West***"
      ],
      "metadata": {
        "id": "2_q4kU7qXjzw"
      }
    },
    {
      "cell_type": "markdown",
      "source": [
        "#### **3.2 RELATIONSHIP BETWEEN SALES & PROFIT**"
      ],
      "metadata": {
        "id": "hOYnGAtvXyPV"
      }
    },
    {
      "cell_type": "code",
      "source": [
        "# grouping by region to view by sales\n",
        "\n",
        "Region_profit = store.groupby(\"Region\")[\"Sales\"].sum().sort_values(ascending = False)\n",
        "\n",
        "# Choosing the colours for each category\n",
        "colours = [\"blue\", \"#FFDAB9\", \"greenyellow\", \"#B0C4DE\"]\n",
        "\n",
        "Region_profit.plot(kind = \"bar\", color = colours)\n",
        "\n",
        "plt.title(\"Sales by Region\")\n",
        "plt.ylabel(\"Sales\")\n",
        "plt.xlabel(\"Region\")\n",
        "plt.tight_layout()\n",
        "plt.show()"
      ],
      "metadata": {
        "colab": {
          "base_uri": "https://localhost:8080/",
          "height": 487
        },
        "id": "3Q_IwWc2lfeO",
        "outputId": "d30622dc-baac-40a6-f203-4f4704800346"
      },
      "execution_count": null,
      "outputs": [
        {
          "output_type": "display_data",
          "data": {
            "text/plain": [
              "<Figure size 640x480 with 1 Axes>"
            ],
            "image/png": "[encoded data removed]"
          },
          "metadata": {}
        }
      ]
    },
    {
      "cell_type": "code",
      "source": [
        "#vSales vs Profit by Category\n",
        "# Define your custom color palette\n",
        "custom_palette = {\n",
        "    \"Furniture\": \"#FF6F61\",\n",
        "    \"Office Supplies\": \"#6B5B95\",\n",
        "    \"Technology\": \"#88B04B\"\n",
        "}\n",
        "\n",
        "sns.scatterplot(\n",
        "    x=\"Sales\",\n",
        "    y=\"Profit\",\n",
        "    hue=\"Category\",\n",
        "    data=store,\n",
        "    palette=custom_palette\n",
        ")\n",
        "\n",
        "plt.title(\"Sales vs Profit by Category\")\n",
        "plt.legend(title=\"Category\")\n",
        "plt.show()"
      ],
      "metadata": {
        "colab": {
          "base_uri": "https://localhost:8080/",
          "height": 472
        },
        "id": "PpbCA81DW-_4",
        "outputId": "92dd5947-880f-46d4-d647-7b178f0c8ecd"
      },
      "execution_count": null,
      "outputs": [
        {
          "output_type": "display_data",
          "data": {
            "text/plain": [
              "<Figure size 640x480 with 1 Axes>"
            ],
            "image/png": "[encoded data removed]"
          },
          "metadata": {}
        }
      ]
    },
    {
      "cell_type": "code",
      "source": [
        "# Sales vs Profit by Region\n",
        "# Define your custom color palette\n",
        "custom_palette = {\n",
        "    \"West\": \"#FF6F61\",\n",
        "    \"East\": \"#6B5B95\",\n",
        "    \"South\": \"#88B04B\",\n",
        "    \"Central\": \"#FFFF00\"\n",
        "}\n",
        "\n",
        "sns.scatterplot(\n",
        "    x=\"Sales\",\n",
        "    y=\"Profit\",\n",
        "    hue=\"Region\",\n",
        "    data=store,\n",
        "    palette=custom_palette\n",
        ")\n",
        "\n",
        "plt.title(\"Sales vs Profit by Region\")\n",
        "plt.legend(title=\"Region\")\n",
        "plt.show()"
      ],
      "metadata": {
        "colab": {
          "base_uri": "https://localhost:8080/",
          "height": 472
        },
        "id": "K9BxB_UzkKD9",
        "outputId": "59cb5b3b-d758-4aeb-dd13-777efcfc098e"
      },
      "execution_count": null,
      "outputs": [
        {
          "output_type": "display_data",
          "data": {
            "text/plain": [
              "<Figure size 640x480 with 1 Axes>"
            ],
            "image/png": "[encoded data removed]"
          },
          "metadata": {}
        }
      ]
    },
    {
      "cell_type": "code",
      "source": [
        "# Correlation between discount & profit\n",
        "\n",
        "correlation = store[[\"Discount\", \"Profit\"]].corr().iloc[0, 1]\n",
        "print(f\"Correlation between Discount and Profit: {correlation}\")"
      ],
      "metadata": {
        "colab": {
          "base_uri": "https://localhost:8080/"
        },
        "id": "rgNyNbf8qfoe",
        "outputId": "b3fbb623-0e88-41ab-a805-56ad1352a719"
      },
      "execution_count": null,
      "outputs": [
        {
          "output_type": "stream",
          "name": "stdout",
          "text": [
            "Correlation between Discount and Profit: -0.21948745637176792\n"
          ]
        }
      ]
    },
    {
      "cell_type": "markdown",
      "source": [
        "#### **3.2 SHIPPING DELAYS**"
      ],
      "metadata": {
        "id": "ndQvUskqZ61S"
      }
    },
    {
      "cell_type": "code",
      "source": [
        "# Ship mode\n",
        "store[\"Ship Mode\"].unique()"
      ],
      "metadata": {
        "colab": {
          "base_uri": "https://localhost:8080/"
        },
        "id": "meclHL5Si6oN",
        "outputId": "28e210d4-c223-4994-8021-7159a328a593"
      },
      "execution_count": null,
      "outputs": [
        {
          "output_type": "execute_result",
          "data": {
            "text/plain": [
              "array(['Second Class', 'Standard Class', 'First Class', 'Same Day'],\n",
              "      dtype=object)"
            ]
          },
          "metadata": {},
          "execution_count": 81
        }
      ]
    },
    {
      "cell_type": "code",
      "source": [
        "# ship mode count\n",
        "store[\"Ship Mode\"].value_counts()"
      ],
      "metadata": {
        "colab": {
          "base_uri": "https://localhost:8080/",
          "height": 241
        },
        "id": "99cJy_70jEKk",
        "outputId": "c18b5ddf-3016-4561-e2b9-5fd2a86b679f"
      },
      "execution_count": null,
      "outputs": [
        {
          "output_type": "execute_result",
          "data": {
            "text/plain": [
              "Ship Mode\n",
              "Standard Class    5968\n",
              "Second Class      1945\n",
              "First Class       1538\n",
              "Same Day           543\n",
              "Name: count, dtype: int64"
            ],
            "text/html": [
              "<div>\n",
              "<style scoped>\n",
              "    .dataframe tbody tr th:only-of-type {\n",
              "        vertical-align: middle;\n",
              "    }\n",
              "\n",
              "    .dataframe tbody tr th {\n",
              "        vertical-align: top;\n",
              "    }\n",
              "\n",
              "    .dataframe thead th {\n",
              "        text-align: right;\n",
              "    }\n",
              "</style>\n",
              "<table border=\"1\" class=\"dataframe\">\n",
              "  <thead>\n",
              "    <tr style=\"text-align: right;\">\n",
              "      <th></th>\n",
              "      <th>count</th>\n",
              "    </tr>\n",
              "    <tr>\n",
              "      <th>Ship Mode</th>\n",
              "      <th></th>\n",
              "    </tr>\n",
              "  </thead>\n",
              "  <tbody>\n",
              "    <tr>\n",
              "      <th>Standard Class</th>\n",
              "      <td>5968</td>\n",
              "    </tr>\n",
              "    <tr>\n",
              "      <th>Second Class</th>\n",
              "      <td>1945</td>\n",
              "    </tr>\n",
              "    <tr>\n",
              "      <th>First Class</th>\n",
              "      <td>1538</td>\n",
              "    </tr>\n",
              "    <tr>\n",
              "      <th>Same Day</th>\n",
              "      <td>543</td>\n",
              "    </tr>\n",
              "  </tbody>\n",
              "</table>\n",
              "</div><br><label><b>dtype:</b> int64</label>"
            ]
          },
          "metadata": {},
          "execution_count": 82
        }
      ]
    },
    {
      "cell_type": "code",
      "source": [
        "# Calculating the shipping time by creating it as a new column\n",
        "store[\"Shipping Time\"] = (store[\"Ship Date\"] - store[\"Order Date\"]).dt.days\n",
        "store[\"Shipping Time\"].value_counts()"
      ],
      "metadata": {
        "colab": {
          "base_uri": "https://localhost:8080/",
          "height": 366
        },
        "id": "GhehEirqZV2p",
        "outputId": "c2bd0403-20ac-4be7-c6bc-b0c93e548609"
      },
      "execution_count": null,
      "outputs": [
        {
          "output_type": "execute_result",
          "data": {
            "text/plain": [
              "Shipping Time\n",
              "4    2774\n",
              "5    2169\n",
              "2    1334\n",
              "6    1203\n",
              "3    1005\n",
              "7     621\n",
              "0     519\n",
              "1     369\n",
              "Name: count, dtype: int64"
            ],
            "text/html": [
              "<div>\n",
              "<style scoped>\n",
              "    .dataframe tbody tr th:only-of-type {\n",
              "        vertical-align: middle;\n",
              "    }\n",
              "\n",
              "    .dataframe tbody tr th {\n",
              "        vertical-align: top;\n",
              "    }\n",
              "\n",
              "    .dataframe thead th {\n",
              "        text-align: right;\n",
              "    }\n",
              "</style>\n",
              "<table border=\"1\" class=\"dataframe\">\n",
              "  <thead>\n",
              "    <tr style=\"text-align: right;\">\n",
              "      <th></th>\n",
              "      <th>count</th>\n",
              "    </tr>\n",
              "    <tr>\n",
              "      <th>Shipping Time</th>\n",
              "      <th></th>\n",
              "    </tr>\n",
              "  </thead>\n",
              "  <tbody>\n",
              "    <tr>\n",
              "      <th>4</th>\n",
              "      <td>2774</td>\n",
              "    </tr>\n",
              "    <tr>\n",
              "      <th>5</th>\n",
              "      <td>2169</td>\n",
              "    </tr>\n",
              "    <tr>\n",
              "      <th>2</th>\n",
              "      <td>1334</td>\n",
              "    </tr>\n",
              "    <tr>\n",
              "      <th>6</th>\n",
              "      <td>1203</td>\n",
              "    </tr>\n",
              "    <tr>\n",
              "      <th>3</th>\n",
              "      <td>1005</td>\n",
              "    </tr>\n",
              "    <tr>\n",
              "      <th>7</th>\n",
              "      <td>621</td>\n",
              "    </tr>\n",
              "    <tr>\n",
              "      <th>0</th>\n",
              "      <td>519</td>\n",
              "    </tr>\n",
              "    <tr>\n",
              "      <th>1</th>\n",
              "      <td>369</td>\n",
              "    </tr>\n",
              "  </tbody>\n",
              "</table>\n",
              "</div><br><label><b>dtype:</b> int64</label>"
            ]
          },
          "metadata": {},
          "execution_count": 83
        }
      ]
    },
    {
      "cell_type": "markdown",
      "source": [
        "From the above, it is seen that a lot of products were shipped ***4*** to ***5*** days after order date."
      ],
      "metadata": {
        "id": "n75-4yuAbmS8"
      }
    },
    {
      "cell_type": "code",
      "source": [
        "# plotting the visuals\n",
        "store[\"Shipping Time\"].value_counts().sort_index().plot(kind = \"bar\")"
      ],
      "metadata": {
        "colab": {
          "base_uri": "https://localhost:8080/",
          "height": 461
        },
        "id": "dX5Nu44gdlAp",
        "outputId": "25fe5a01-6e06-4c5f-e404-b128b9b8b135"
      },
      "execution_count": null,
      "outputs": [
        {
          "output_type": "execute_result",
          "data": {
            "text/plain": [
              "<Axes: xlabel='Shipping Time'>"
            ]
          },
          "metadata": {},
          "execution_count": 84
        },
        {
          "output_type": "display_data",
          "data": {
            "text/plain": [
              "<Figure size 640x480 with 1 Axes>"
            ],
            "image/png": "[encoded data removed]"
          },
          "metadata": {}
        }
      ]
    },
    {
      "cell_type": "code",
      "source": [
        "# understanding the shipping mode by the shipping time\n",
        "Ship_mode_by_time = store.groupby(\"Ship Mode\")[\"Shipping Time\"].value_counts()\n",
        "Ship_mode_by_time"
      ],
      "metadata": {
        "colab": {
          "base_uri": "https://localhost:8080/",
          "height": 617
        },
        "id": "XG_YleoMfj2X",
        "outputId": "d4864153-3dfb-4433-ef77-8507da7b0238"
      },
      "execution_count": null,
      "outputs": [
        {
          "output_type": "execute_result",
          "data": {
            "text/plain": [
              "Ship Mode       Shipping Time\n",
              "First Class     3                 623\n",
              "                2                 570\n",
              "                1                 344\n",
              "                4                   1\n",
              "Same Day        0                 519\n",
              "                1                  24\n",
              "Second Class    2                 764\n",
              "                5                 429\n",
              "                3                 380\n",
              "                4                 371\n",
              "                1                   1\n",
              "Standard Class  4                2402\n",
              "                5                1740\n",
              "                6                1203\n",
              "                7                 621\n",
              "                3                   2\n",
              "Name: count, dtype: int64"
            ],
            "text/html": [
              "<div>\n",
              "<style scoped>\n",
              "    .dataframe tbody tr th:only-of-type {\n",
              "        vertical-align: middle;\n",
              "    }\n",
              "\n",
              "    .dataframe tbody tr th {\n",
              "        vertical-align: top;\n",
              "    }\n",
              "\n",
              "    .dataframe thead th {\n",
              "        text-align: right;\n",
              "    }\n",
              "</style>\n",
              "<table border=\"1\" class=\"dataframe\">\n",
              "  <thead>\n",
              "    <tr style=\"text-align: right;\">\n",
              "      <th></th>\n",
              "      <th></th>\n",
              "      <th>count</th>\n",
              "    </tr>\n",
              "    <tr>\n",
              "      <th>Ship Mode</th>\n",
              "      <th>Shipping Time</th>\n",
              "      <th></th>\n",
              "    </tr>\n",
              "  </thead>\n",
              "  <tbody>\n",
              "    <tr>\n",
              "      <th rowspan=\"4\" valign=\"top\">First Class</th>\n",
              "      <th>3</th>\n",
              "      <td>623</td>\n",
              "    </tr>\n",
              "    <tr>\n",
              "      <th>2</th>\n",
              "      <td>570</td>\n",
              "    </tr>\n",
              "    <tr>\n",
              "      <th>1</th>\n",
              "      <td>344</td>\n",
              "    </tr>\n",
              "    <tr>\n",
              "      <th>4</th>\n",
              "      <td>1</td>\n",
              "    </tr>\n",
              "    <tr>\n",
              "      <th rowspan=\"2\" valign=\"top\">Same Day</th>\n",
              "      <th>0</th>\n",
              "      <td>519</td>\n",
              "    </tr>\n",
              "    <tr>\n",
              "      <th>1</th>\n",
              "      <td>24</td>\n",
              "    </tr>\n",
              "    <tr>\n",
              "      <th rowspan=\"5\" valign=\"top\">Second Class</th>\n",
              "      <th>2</th>\n",
              "      <td>764</td>\n",
              "    </tr>\n",
              "    <tr>\n",
              "      <th>5</th>\n",
              "      <td>429</td>\n",
              "    </tr>\n",
              "    <tr>\n",
              "      <th>3</th>\n",
              "      <td>380</td>\n",
              "    </tr>\n",
              "    <tr>\n",
              "      <th>4</th>\n",
              "      <td>371</td>\n",
              "    </tr>\n",
              "    <tr>\n",
              "      <th>1</th>\n",
              "      <td>1</td>\n",
              "    </tr>\n",
              "    <tr>\n",
              "      <th rowspan=\"5\" valign=\"top\">Standard Class</th>\n",
              "      <th>4</th>\n",
              "      <td>2402</td>\n",
              "    </tr>\n",
              "    <tr>\n",
              "      <th>5</th>\n",
              "      <td>1740</td>\n",
              "    </tr>\n",
              "    <tr>\n",
              "      <th>6</th>\n",
              "      <td>1203</td>\n",
              "    </tr>\n",
              "    <tr>\n",
              "      <th>7</th>\n",
              "      <td>621</td>\n",
              "    </tr>\n",
              "    <tr>\n",
              "      <th>3</th>\n",
              "      <td>2</td>\n",
              "    </tr>\n",
              "  </tbody>\n",
              "</table>\n",
              "</div><br><label><b>dtype:</b> int64</label>"
            ]
          },
          "metadata": {},
          "execution_count": 85
        }
      ]
    },
    {
      "cell_type": "code",
      "source": [
        "# shipping time by shipping mode\n",
        "\n",
        "Mode = store.groupby(\"Ship Mode\")[\"Shipping Time\"].value_counts()\n",
        "\n",
        "# Choosing the colours for each category\n",
        "colours = [\"blue\", \"#FFDAB9\", \"greenyellow\", \"#B0C4DE\"]\n",
        "\n",
        "Mode.plot(kind = \"bar\", color = colours)\n",
        "\n",
        "plt.title(\"Shipping Time by Shipping Mode\")\n",
        "plt.ylabel(\"Count\")\n",
        "plt.xlabel(\"Ship Mode\")\n",
        "plt.tight_layout()\n",
        "plt.show()"
      ],
      "metadata": {
        "colab": {
          "base_uri": "https://localhost:8080/",
          "height": 487
        },
        "id": "6nfa2EX4gfLy",
        "outputId": "6f4b8154-5c2f-4f0e-c479-69adbf48314f"
      },
      "execution_count": null,
      "outputs": [
        {
          "output_type": "display_data",
          "data": {
            "text/plain": [
              "<Figure size 640x480 with 1 Axes>"
            ],
            "image/png": "[encoded data removed]"
          },
          "metadata": {}
        }
      ]
    },
    {
      "cell_type": "markdown",
      "source": [
        "#### **4. END NOTES**\n",
        "\n",
        "After exploring the dataset, some insights have been discovered which are listed below;\n",
        "\n",
        "\n",
        "*   Technology is the highest revenue-generating category\n",
        "\n",
        "*   Central region has high sales but low profit\n",
        "*   Standard class takes the longest to ship\n",
        "\n",
        "\n",
        "*  Sales are highest in the West, but profit is highest in the East.\n",
        "\n",
        "* High discount levels often correlate with negative profit.\n",
        "\n",
        "\n",
        "\n",
        "\n",
        "\n"
      ],
      "metadata": {
        "id": "ZaKf1gApjWnL"
      }
    },
    {
      "cell_type": "markdown",
      "source": [
        "#### **5. CONCLUSION**\n",
        "\n",
        "This project demonstrates my ability to clean, analyze, and visualize messy real-world data. It highlights my proficiency in Python for data wrangling and data exploration. Some recommendations that can be implemented are:\n",
        "* Reduce discounts in sub-categories with negative profit.\n",
        "\n",
        "* Optimize shipping process for Standard Class.\n"
      ],
      "metadata": {
        "id": "bC02LB1wjecz"
      }
    }
  ]
}